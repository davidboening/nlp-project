{
 "cells": [
  {
   "cell_type": "code",
   "execution_count": null,
   "metadata": {},
   "outputs": [],
   "source": [
    "import random\n",
    "import os\n",
    "os.environ[\"HF_HOME\"] = r\"./.cache\"\n",
    "\n",
    "from transformers import EncoderDecoderModel, AutoTokenizer, GenerationConfig, Seq2SeqTrainer, \\\n",
    "    Seq2SeqTrainingArguments, DataCollatorForSeq2Seq\n",
    "from tokenizers import processors\n",
    "from peft import LoraConfig, get_peft_model, TaskType\n",
    "import evaluate"
   ]
  },
  {
   "cell_type": "markdown",
   "metadata": {},
   "source": [
    "- Encoders\n",
    "    - BERT_JA : `cl-tohoku/bert-base-japanese-v3`\n",
    "    - BERT_EN : `bert-base-uncased`, `prajjwal1/bert-tiny`\n",
    "- Decorders\n",
    "    - GPT_JA : `rinna/japanese-gpt2-xsmall`\n",
    "    - GPT_EN : `gpt2`"
   ]
  },
  {
   "cell_type": "code",
   "execution_count": null,
   "metadata": {},
   "outputs": [],
   "source": [
    "SOURCE_LANG = \"en\"\n",
    "RESUME = False\n",
    "ckp = 25000\n",
    "\n",
    "if SOURCE_LANG == \"en\":\n",
    "    TARGET_LANG = \"ja\"\n",
    "    encoder = \"bert-base-uncased\"\n",
    "    decoder = \"rinna/japanese-gpt2-small\"\n",
    "else: \n",
    "    TARGET_LANG = \"en\"\n",
    "    encoder = \"cl-tohoku/bert-base-japanese-v3\"\n",
    "    decoder = \"gpt2\"\n",
    "\n",
    "ckp_path = f\"./.ckp/{SOURCE_LANG}-{TARGET_LANG}-BERT-GPT2-xattn/checkpoint-{ckp}\"\n",
    "model = EncoderDecoderModel.from_pretrained(ckp_path, local_files_only=True)\n",
    "model.cuda();"
   ]
  },
  {
   "cell_type": "code",
   "execution_count": null,
   "metadata": {},
   "outputs": [],
   "source": [
    "def print_trainable_parameters(model):\n",
    "    \"\"\"\n",
    "    Prints the number of trainable parameters in the model.\n",
    "    \"\"\"\n",
    "    trainable_count, trainable_bytes = 0, 0\n",
    "    total_count, total_bytes = 0, 0\n",
    "    for _, param in model.named_parameters():\n",
    "        total_count += param.nelement()\n",
    "        total_bytes += param.nelement() * param.element_size()\n",
    "        if param.requires_grad:\n",
    "            trainable_count += param.nelement()\n",
    "            trainable_bytes += param.nelement() * param.element_size()\n",
    "    print(\n",
    "        f\"Total params: {total_count:12,} ({(total_bytes / 1024**2):7,.1f}MB) | \"\n",
    "        f\"Trainable params: {trainable_count:12,} ({(trainable_bytes / 1024**2):7,.1f}MB) [{100 * trainable_count / total_count:3.1f}%]\"\n",
    "    )"
   ]
  },
  {
   "cell_type": "code",
   "execution_count": null,
   "metadata": {},
   "outputs": [],
   "source": [
    "encoder_tokenizer = AutoTokenizer.from_pretrained(encoder, use_fast=True)\n",
    "decoder_tokenizer = AutoTokenizer.from_pretrained(decoder, use_fast=True)\n",
    "if decoder_tokenizer.pad_token_id is None:\n",
    "    decoder_tokenizer.pad_token_id = decoder_tokenizer.eos_token_id\n",
    "\n",
    "# add EOS token at the end of each sentence\n",
    "decoder_tokenizer._tokenizer.post_processor = processors.TemplateProcessing(\n",
    "    single=\"$A \" + decoder_tokenizer.eos_token,\n",
    "    special_tokens=[(decoder_tokenizer.eos_token, decoder_tokenizer.eos_token_id)],\n",
    ")"
   ]
  },
  {
   "cell_type": "code",
   "execution_count": null,
   "metadata": {},
   "outputs": [],
   "source": [
    "modules_to_save = [\"LayerNorm\", \"ln_1\", \"ln_2\", \"ln_cross_attn\", \"ln_f\"]\n",
    "target_modules = [\"word_embeddings\", \"position_embeddings\", \"token_type_embeddings\", \"query\", \"key\", \"value\", \"dense\",\n",
    "                    \"wte\", \"wpe\", \"shared\", \"c_attn\", \"c_proj\", \"q_attn\", \"c_fc\", \"c_proj\", \"lm_head\"]\n",
    "config = LoraConfig(\n",
    "    r=8,\n",
    "    lora_alpha=8, # anything is fine (simply tune lr)\n",
    "    lora_dropout=0.1,\n",
    "    target_modules=target_modules,\n",
    "    modules_to_save=modules_to_save,\n",
    "    bias=\"lora_only\",\n",
    "    task_type=TaskType.SEQ_2_SEQ_LM\n",
    ")\n",
    "lora_model = get_peft_model(model, config)\n",
    "# printing number of parameters the old way is broken!"
   ]
  },
  {
   "cell_type": "code",
   "execution_count": null,
   "metadata": {},
   "outputs": [],
   "source": [
    "print_trainable_parameters(lora_model)"
   ]
  },
  {
   "cell_type": "code",
   "execution_count": null,
   "metadata": {},
   "outputs": [],
   "source": [
    "from utils.dataset import EnJaDatasetMaker, EnJaDatasetSample, \\\n",
    "    OPUS100, JESC, MassiveTranslation, SnowSimplified, Tatoeba, IWSLT2017, \\\n",
    "    Flores\n",
    "from utils.dataset.dataset_base import EnJaDataset\n",
    "\n",
    "def get_csv_path(cls):\n",
    "    assert issubclass(cls, EnJaDataset), \"Invalid class passed!\"\n",
    "    return f\"{EnJaDataset.DATASET_PROCESSED_DIR}/{cls.OUT_NAME}\"\n",
    "\n",
    "dataset = EnJaDatasetMaker.prepare_dataset(\n",
    "    f\"BERT-GPT2-{SOURCE_LANG}-{TARGET_LANG}\",\n",
    "    [\n",
    "        EnJaDatasetSample(dataset=get_csv_path(OPUS100), nsample=50_000, ntokens=(0, 128)),\n",
    "        EnJaDatasetSample(dataset=get_csv_path(JESC), nsample=150_000, ntokens=(0, 128)),\n",
    "        EnJaDatasetSample(dataset=get_csv_path(MassiveTranslation), nsample=20_000, ntokens=(0, 128)),\n",
    "        EnJaDatasetSample(dataset=get_csv_path(SnowSimplified), nsample=30_000, ntokens=(0, 128)),\n",
    "        EnJaDatasetSample(dataset=get_csv_path(Tatoeba), nsample=125_000, ntokens=(0, 128)),\n",
    "        EnJaDatasetSample(dataset=get_csv_path(IWSLT2017), nsample=175_000, ntokens=(0, 128)),\n",
    "    ],\n",
    "    source_language = SOURCE_LANG,\n",
    "    model_type= \"BERT-GPT2\",\n",
    "    encoder_tokenizer = encoder_tokenizer,\n",
    "    decoder_tokenizer= decoder_tokenizer,\n",
    "    num_proc  = 8,\n",
    "    seed      = 123,\n",
    "    splits    = (1, 0.002, 1) # rescaled to 1\n",
    ")\n",
    "\n",
    "train_data = dataset[\"train\"].remove_columns([\"source\", \"target\"])\n",
    "\n",
    "valid_data = Flores.load(\"dev\").rename_columns({f\"{SOURCE_LANG}_sentence\": \"source\", f\"{TARGET_LANG}_sentence\": \"target\"})\n",
    "valid_data = valid_data.map(\n",
    "    EnJaDatasetMaker._get_map_compute_BERT_GPT2_tokenization(\n",
    "        encoder_tokenizer=encoder_tokenizer, decoder_tokenizer=decoder_tokenizer\n",
    "    )\n",
    ")\n",
    "valid_data = valid_data.remove_columns([\"source\", \"target\"])\n",
    "\n",
    "data_collator = DataCollatorForSeq2Seq(encoder_tokenizer, model=model)"
   ]
  },
  {
   "cell_type": "code",
   "execution_count": null,
   "metadata": {},
   "outputs": [],
   "source": [
    "from utils.metric import SacreBleu\n",
    "compute_metrics = SacreBleu.get_mBART_metric(tokenizer=decoder_tokenizer, target_language=TARGET_LANG)"
   ]
  },
  {
   "cell_type": "code",
   "execution_count": null,
   "metadata": {},
   "outputs": [],
   "source": [
    "def set_decoder_configuration(gc: GenerationConfig):\n",
    "    gc.no_repeat_ngram_size = 4\n",
    "    gc.length_penalty = 2.0\n",
    "    gc.num_beams = 3\n",
    "    #gen_config.max_new_tokens = MAX_LENGHT\n",
    "    gc.max_length = 256\n",
    "    gc.min_length = 0\n",
    "    gc.early_stopping = True\n",
    "    # pad token is set to eos since in GPT2 pad does not exist\n",
    "    gc.pad_token_id = decoder_tokenizer.eos_token_id\n",
    "    gc.bos_token_id = decoder_tokenizer.bos_token_id\n",
    "    gc.eos_token_id = decoder_tokenizer.eos_token_id\n",
    "    return gc\n",
    "\n",
    "gen_config = GenerationConfig()\n",
    "gen_config = set_decoder_configuration(gen_config)"
   ]
  },
  {
   "cell_type": "code",
   "execution_count": null,
   "metadata": {},
   "outputs": [],
   "source": [
    "train_args = Seq2SeqTrainingArguments(\n",
    "    report_to=\"wandb\",\n",
    "    run_name=f\"{SOURCE_LANG}-{TARGET_LANG}-BERT-GPT2-xattn-LoRA\",\n",
    "    num_train_epochs=3,\n",
    "\n",
    "    logging_strategy=\"steps\",\n",
    "    logging_steps=1, # * 4, 2, 1\n",
    "\n",
    "    evaluation_strategy=\"steps\",\n",
    "    eval_steps=2500, # * 20_000, 10_000, 5_000\n",
    "    prediction_loss_only=False,\n",
    "    predict_with_generate=True,\n",
    "    generation_config=gen_config,\n",
    "\n",
    "    output_dir=f\"./.ckp/{SOURCE_LANG}-{TARGET_LANG}-BERT-GPT2-xattn-LoRA/\",\n",
    "    save_strategy=\"steps\",\n",
    "    save_steps=2500, # * 20_000, 10_000, 5_000\n",
    "    save_total_limit=100,\n",
    "    load_best_model_at_end=True, # defaults to metric: \"loss\"\n",
    "    metric_for_best_model=\"eval_score\",\n",
    "    greater_is_better=True,\n",
    "\n",
    "    optim=\"adamw_torch\",\n",
    "    warmup_steps=400, # 3500, 1750, 875\n",
    "    learning_rate=5e-5, # 3e-5, 5e-5\n",
    "    bf16=True, # bf16, qint 8 ???\n",
    "    \n",
    "    group_by_length=True,\n",
    "    length_column_name=\"length\",\n",
    "\n",
    "    # torch_compile=True,\n",
    "    label_smoothing_factor=0.2, # 0.1, 0.2\n",
    "    \n",
    "    per_device_train_batch_size=8,\n",
    "    per_device_eval_batch_size=8,\n",
    "    gradient_accumulation_steps=4, # * 1, 2, 4\n",
    "    # gradient_checkpointing=True,\n",
    "    # eval_accumulation_steps=4, # ???\n",
    ")"
   ]
  },
  {
   "cell_type": "code",
   "execution_count": null,
   "metadata": {},
   "outputs": [],
   "source": [
    "trainer = Seq2SeqTrainer(\n",
    "    lora_model, \n",
    "    args=train_args,\n",
    "    data_collator=data_collator,\n",
    "    train_dataset=train_data, \n",
    "    eval_dataset=valid_data, \n",
    "    compute_metrics=compute_metrics\n",
    ")"
   ]
  },
  {
   "cell_type": "code",
   "execution_count": null,
   "metadata": {},
   "outputs": [],
   "source": [
    "lora_model.train()\n",
    "trainer.train(resume_from_checkpoint=RESUME)"
   ]
  },
  {
   "cell_type": "code",
   "execution_count": null,
   "metadata": {},
   "outputs": [],
   "source": []
  }
 ],
 "metadata": {
  "kernelspec": {
   "display_name": "NLP",
   "language": "python",
   "name": "python3"
  },
  "language_info": {
   "codemirror_mode": {
    "name": "ipython",
    "version": 3
   },
   "file_extension": ".py",
   "mimetype": "text/x-python",
   "name": "python",
   "nbconvert_exporter": "python",
   "pygments_lexer": "ipython3",
   "version": "3.10.10"
  },
  "orig_nbformat": 4
 },
 "nbformat": 4,
 "nbformat_minor": 2
}
