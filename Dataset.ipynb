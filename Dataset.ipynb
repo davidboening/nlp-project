{
 "cells": [
  {
   "cell_type": "markdown",
   "metadata": {},
   "source": [
    "## Downloads and Preprocess"
   ]
  },
  {
   "cell_type": "code",
   "execution_count": 1,
   "metadata": {},
   "outputs": [
    {
     "name": "stdout",
     "output_type": "stream",
     "text": [
      "Webpage: https://nlp.stanford.edu/projects/jesc/\n",
      "Paper  : https://arxiv.org/abs/1710.10639\n",
      "Summary: Japanese-English Subtitle Corpus (2.8M sentences)\n",
      "skipped: jesc.csv file already exists!\n"
     ]
    }
   ],
   "source": [
    "from utils.dataset import JESCDataset\n",
    "\n",
    "JESCDataset.info()\n",
    "JESCDataset.create_csv()"
   ]
  },
  {
   "cell_type": "code",
   "execution_count": 2,
   "metadata": {},
   "outputs": [
    {
     "name": "stdout",
     "output_type": "stream",
     "text": [
      "Webpage : https://github.com/venali/BilingualCorpus/\n",
      "Summary : a large scale corpus of manually translated Japanese sentences\n",
      "          extracted from Wikipedia's Kyoto Articles (~500k sentences)\n",
      "skipped: wiki_corpus.csv file already exists!\n"
     ]
    }
   ],
   "source": [
    "from utils.dataset import WikiCorpusDataset\n",
    "\n",
    "WikiCorpusDataset.info()\n",
    "WikiCorpusDataset.create_csv()"
   ]
  },
  {
   "cell_type": "code",
   "execution_count": 3,
   "metadata": {},
   "outputs": [
    {
     "name": "stdout",
     "output_type": "stream",
     "text": [
      "Webpage    : https://opus.nlpl.eu/Tatoeba.php\n",
      "Webpage(HF): https://huggingface.co/datasets/tatoeba\n",
      "Summary    : a collection of sentences from https://tatoeba.org/en/, contains\n",
      "             over 400 languages ([en-ja] 200k sentences)\n",
      "skipped: tatoeba.csv file already exists!\n"
     ]
    }
   ],
   "source": [
    "from utils.dataset import TatoebaDataset\n",
    "\n",
    "TatoebaDataset.info()\n",
    "TatoebaDataset.create_csv()"
   ]
  },
  {
   "cell_type": "code",
   "execution_count": 4,
   "metadata": {},
   "outputs": [
    {
     "name": "stdout",
     "output_type": "stream",
     "text": [
      "Webpage: https://huggingface.co/datasets/snow_simplified_japanese_corpus\n",
      "Summary: Japanese-English sentence pairs, all Japanese sentences have\n",
      "         a simplified counterpart (85k(x2) sentences)\n",
      "skipped: snow_simplified.csv file already exists!\n"
     ]
    }
   ],
   "source": [
    "from utils.dataset import SnowSimplifiedDataset\n",
    "\n",
    "SnowSimplifiedDataset.info()\n",
    "SnowSimplifiedDataset.create_csv()"
   ]
  },
  {
   "cell_type": "code",
   "execution_count": 5,
   "metadata": {},
   "outputs": [
    {
     "name": "stdout",
     "output_type": "stream",
     "text": [
      "Webpage: https://huggingface.co/datasets/Amani27/massive_translation_dataset\n",
      "Summary: dataset derived from AmazonScience/MASSIVE for translation\n",
      "         (16k sentences in 10 languages)\n",
      "skipped: massive_translation.csv file already exists!\n"
     ]
    }
   ],
   "source": [
    "from utils.dataset import MassiveTranslationDataset\n",
    "\n",
    "MassiveTranslationDataset.info()\n",
    "MassiveTranslationDataset.create_csv()"
   ]
  },
  {
   "cell_type": "markdown",
   "metadata": {},
   "source": [
    "## Dataset Statistics"
   ]
  },
  {
   "cell_type": "code",
   "execution_count": 6,
   "metadata": {},
   "outputs": [
    {
     "name": "stderr",
     "output_type": "stream",
     "text": [
      "You are using the legacy behaviour of the <class 'transformers.models.t5.tokenization_t5.T5Tokenizer'>. This means that tokens that come after special tokens will not be properly handled. We recommend you to read the related pull request available at https://github.com/huggingface/transformers/pull/24565\n"
     ]
    }
   ],
   "source": [
    "from transformers import AutoTokenizer\n",
    "\n",
    "ja_en = (\n",
    "    AutoTokenizer.from_pretrained(\"cl-tohoku/bert-base-japanese-v3\", use_fast=True),\n",
    "    AutoTokenizer.from_pretrained(\"gpt2\", use_fast=True)\n",
    ")\n",
    "en_ja = (\n",
    "    AutoTokenizer.from_pretrained(\"bert-base-uncased\", use_fast=True),\n",
    "    AutoTokenizer.from_pretrained(\"rinna/japanese-gpt2-small\", use_fast=True)\n",
    ")"
   ]
  },
  {
   "cell_type": "code",
   "execution_count": 12,
   "metadata": {},
   "outputs": [
    {
     "data": {
      "application/vnd.jupyter.widget-view+json": {
       "model_id": "fa4d2cf3a3b64fdda333c610d20635a6",
       "version_major": 2,
       "version_minor": 0
      },
      "text/plain": [
       "Map (num_proc=8):   0%|          | 0/2801388 [00:00<?, ? examples/s]"
      ]
     },
     "metadata": {},
     "output_type": "display_data"
    },
    {
     "name": "stdout",
     "output_type": "stream",
     "text": [
      "Showing statistic for 2,801,388 sentences:\n",
      "\ten[tokens] : Avg. 18.85 | Min.     3 | Max.   157 | >32. 204,645 | >64.  6990 | >128.    17 | >256.     0\n",
      "\tja[tokens] : Avg. 19.91 | Min.     1 | Max.   199 | >32. 328,914 | >64. 11251 | >128.    29 | >256.     0\n"
     ]
    },
    {
     "data": {
      "application/vnd.jupyter.widget-view+json": {
       "model_id": "2bde5b7ad994498cafac1c2f9a1af3a7",
       "version_major": 2,
       "version_minor": 0
      },
      "text/plain": [
       "Map (num_proc=8):   0%|          | 0/2801388 [00:00<?, ? examples/s]"
      ]
     },
     "metadata": {},
     "output_type": "display_data"
    },
    {
     "name": "stdout",
     "output_type": "stream",
     "text": [
      "Showing statistic for 2,801,388 sentences:\n",
      "\ten[tokens] : Avg. 11.52 | Min.     3 | Max.    92 | >32.  12,634 | >64.    60 | >128.     0 | >256.     0\n",
      "\tja[tokens] : Avg. 10.09 | Min.     2 | Max.    94 | >32.   4,131 | >64.    14 | >128.     0 | >256.     0\n"
     ]
    }
   ],
   "source": [
    "JESCDataset.stats(*ja_en, num_proc=8)\n",
    "JESCDataset.stats(*en_ja, num_proc=8)"
   ]
  },
  {
   "cell_type": "code",
   "execution_count": 8,
   "metadata": {},
   "outputs": [
    {
     "data": {
      "application/vnd.jupyter.widget-view+json": {
       "model_id": "f9df3b042aea42dd9550625a60c361f4",
       "version_major": 2,
       "version_minor": 0
      },
      "text/plain": [
       "Map (num_proc=8):   0%|          | 0/457687 [00:00<?, ? examples/s]"
      ]
     },
     "metadata": {},
     "output_type": "display_data"
    },
    {
     "name": "stdout",
     "output_type": "stream",
     "text": [
      "Showing statistic for 457,687 sentences:\n",
      "\ten[tokens] : Avg. 58.88 | Min.     3 | Max.   906 | >32. 318,507 | >64. 164503 | >128. 30829 | >256.  1257\n",
      "\tja[tokens] : Avg. 60.15 | Min.     1 | Max.  1253 | >32. 318,059 | >64. 174246 | >128. 34057 | >256.  1330\n"
     ]
    },
    {
     "data": {
      "application/vnd.jupyter.widget-view+json": {
       "model_id": "45033e60c3184a6d8859f4ce9ef636fc",
       "version_major": 2,
       "version_minor": 0
      },
      "text/plain": [
       "Map (num_proc=8):   0%|          | 0/457687 [00:00<?, ? examples/s]"
      ]
     },
     "metadata": {},
     "output_type": "display_data"
    },
    {
     "name": "stdout",
     "output_type": "stream",
     "text": [
      "Showing statistic for 457,687 sentences:\n",
      "\ten[tokens] : Avg. 34.02 | Min.     3 | Max.   826 | >32. 197,378 | >64. 46236 | >128.  2747 | >256.    81\n",
      "\tja[tokens] : Avg. 23.24 | Min.     2 | Max.   654 | >32. 102,738 | >64.  9818 | >128.   253 | >256.    12\n"
     ]
    }
   ],
   "source": [
    "WikiCorpusDataset.stats(*ja_en, num_proc=8)\n",
    "WikiCorpusDataset.stats(*en_ja, num_proc=8)"
   ]
  },
  {
   "cell_type": "code",
   "execution_count": 9,
   "metadata": {},
   "outputs": [
    {
     "data": {
      "application/vnd.jupyter.widget-view+json": {
       "model_id": "26309dead5004cbf821b0688650ce96c",
       "version_major": 2,
       "version_minor": 0
      },
      "text/plain": [
       "Map (num_proc=8):   0%|          | 0/208861 [00:00<?, ? examples/s]"
      ]
     },
     "metadata": {},
     "output_type": "display_data"
    },
    {
     "name": "stdout",
     "output_type": "stream",
     "text": [
      "Showing statistic for 208,861 sentences:\n",
      "\ten[tokens] : Avg. 19.47 | Min.     4 | Max.   232 | >32.  11,217 | >64.   722 | >128.    42 | >256.     0\n",
      "\tja[tokens] : Avg. 25.32 | Min.     3 | Max.   420 | >32.  37,387 | >64.  2081 | >128.   138 | >256.    10\n"
     ]
    },
    {
     "data": {
      "application/vnd.jupyter.widget-view+json": {
       "model_id": "a51e24d5df184f4394a39884f780abe4",
       "version_major": 2,
       "version_minor": 0
      },
      "text/plain": [
       "Map (num_proc=8):   0%|          | 0/208861 [00:00<?, ? examples/s]"
      ]
     },
     "metadata": {},
     "output_type": "display_data"
    },
    {
     "name": "stdout",
     "output_type": "stream",
     "text": [
      "Showing statistic for 208,861 sentences:\n",
      "\ten[tokens] : Avg. 11.56 | Min.     4 | Max.   126 | >32.   1,035 | >64.    48 | >128.     0 | >256.     0\n",
      "\tja[tokens] : Avg. 11.07 | Min.     3 | Max.   153 | >32.     703 | >64.    46 | >128.     2 | >256.     0\n"
     ]
    }
   ],
   "source": [
    "TatoebaDataset.stats(*ja_en, num_proc=8)\n",
    "TatoebaDataset.stats(*en_ja, num_proc=8)"
   ]
  },
  {
   "cell_type": "code",
   "execution_count": 10,
   "metadata": {},
   "outputs": [
    {
     "data": {
      "application/vnd.jupyter.widget-view+json": {
       "model_id": "360063efd99f43d98b24a0eb5663ca17",
       "version_major": 2,
       "version_minor": 0
      },
      "text/plain": [
       "Map (num_proc=2):   0%|          | 0/100000 [00:00<?, ? examples/s]"
      ]
     },
     "metadata": {},
     "output_type": "display_data"
    },
    {
     "name": "stdout",
     "output_type": "stream",
     "text": [
      "Showing statistic for 100,000 sentences:\n",
      "\ten[tokens] : Avg. 16.32 | Min.     7 | Max.    35 | >32.      30 | >64.     0 | >128.     0 | >256.     0\n",
      "\tja[tokens] : Avg. 21.12 | Min.     5 | Max.    62 | >32.   2,502 | >64.     0 | >128.     0 | >256.     0\n"
     ]
    },
    {
     "data": {
      "application/vnd.jupyter.widget-view+json": {
       "model_id": "4c2ba00094be456a9fe6121c4c6e9bce",
       "version_major": 2,
       "version_minor": 0
      },
      "text/plain": [
       "Map (num_proc=2):   0%|          | 0/100000 [00:00<?, ? examples/s]"
      ]
     },
     "metadata": {},
     "output_type": "display_data"
    },
    {
     "name": "stdout",
     "output_type": "stream",
     "text": [
      "Showing statistic for 100,000 sentences:\n",
      "\ten[tokens] : Avg. 10.03 | Min.     6 | Max.    21 | >32.       0 | >64.     0 | >128.     0 | >256.     0\n",
      "\tja[tokens] : Avg.  9.33 | Min.     4 | Max.    21 | >32.       0 | >64.     0 | >128.     0 | >256.     0\n"
     ]
    }
   ],
   "source": [
    "SnowSimplifiedDataset.stats(*ja_en, num_proc=2)\n",
    "SnowSimplifiedDataset.stats(*en_ja, num_proc=2)"
   ]
  },
  {
   "cell_type": "code",
   "execution_count": 11,
   "metadata": {},
   "outputs": [
    {
     "data": {
      "application/vnd.jupyter.widget-view+json": {
       "model_id": "294450b91a644063a83b42fb965320c5",
       "version_major": 2,
       "version_minor": 0
      },
      "text/plain": [
       "Map (num_proc=2):   0%|          | 0/16521 [00:00<?, ? examples/s]"
      ]
     },
     "metadata": {},
     "output_type": "display_data"
    },
    {
     "name": "stdout",
     "output_type": "stream",
     "text": [
      "Showing statistic for 16,521 sentences:\n",
      "\ten[tokens] : Avg. 17.02 | Min.     3 | Max.   155 | >32.     528 | >64.     7 | >128.     1 | >256.     0\n",
      "\tja[tokens] : Avg. 20.81 | Min.     1 | Max.   192 | >32.   1,773 | >64.    20 | >128.     1 | >256.     0\n"
     ]
    },
    {
     "data": {
      "application/vnd.jupyter.widget-view+json": {
       "model_id": "69318bb7824043dea1bdf3cd9f2e271c",
       "version_major": 2,
       "version_minor": 0
      },
      "text/plain": [
       "Map (num_proc=2):   0%|          | 0/16521 [00:00<?, ? examples/s]"
      ]
     },
     "metadata": {},
     "output_type": "display_data"
    },
    {
     "name": "stdout",
     "output_type": "stream",
     "text": [
      "Showing statistic for 16,521 sentences:\n",
      "\ten[tokens] : Avg.  9.48 | Min.     3 | Max.    64 | >32.       4 | >64.     0 | >128.     0 | >256.     0\n",
      "\tja[tokens] : Avg.  9.27 | Min.     2 | Max.    51 | >32.       4 | >64.     0 | >128.     0 | >256.     0\n"
     ]
    }
   ],
   "source": [
    "MassiveTranslationDataset.stats(*ja_en, num_proc=2)\n",
    "MassiveTranslationDataset.stats(*en_ja, num_proc=2)"
   ]
  }
 ],
 "metadata": {
  "kernelspec": {
   "display_name": "venv",
   "language": "python",
   "name": "python3"
  },
  "language_info": {
   "codemirror_mode": {
    "name": "ipython",
    "version": 3
   },
   "file_extension": ".py",
   "mimetype": "text/x-python",
   "name": "python",
   "nbconvert_exporter": "python",
   "pygments_lexer": "ipython3",
   "version": "3.10.10"
  },
  "orig_nbformat": 4
 },
 "nbformat": 4,
 "nbformat_minor": 2
}
