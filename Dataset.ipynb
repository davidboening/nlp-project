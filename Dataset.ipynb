{
 "cells": [
  {
   "cell_type": "code",
   "execution_count": 1,
   "metadata": {},
   "outputs": [
    {
     "name": "stdout",
     "output_type": "stream",
     "text": [
      "Categories:  BDS, BLD, CLT, EPR, FML, GNM, HST, LTT, PNM, RLW, ROD, SAT, SCL, SNT, TTL\n",
      "skipping: BDS-sen file already exists!\n",
      "skipping: BLD-sen file already exists!\n",
      "skipping: CLT-sen file already exists!\n",
      "skipping: EPR-sen file already exists!\n",
      "skipping: FML-sen file already exists!\n",
      "skipping: GNM-sen file already exists!\n",
      "skipping: HST-sen file already exists!\n",
      "skipping: LTT-sen file already exists!\n",
      "skipping: PNM-sen file already exists!\n",
      "skipping: RLW-sen file already exists!\n",
      "skipping: ROD-sen file already exists!\n",
      "skipping: SAT-sen file already exists!\n",
      "skipping: SCL-sen file already exists!\n",
      "skipping: SNT-sen file already exists!\n",
      "skipping: TTL-sen file already exists!\n",
      "skipping: sen-ALL file already exists!\n"
     ]
    }
   ],
   "source": [
    "from utils.dataset import WikiCorpusDataset\n",
    "print(\"Categories: \", \", \".join(WikiCorpusDataset().categories))\n",
    "datasetLoader = WikiCorpusDataset(split_level=\"sen\", category=\"ALL\", display_progress=False)\n",
    "datasetLoader.create_csv()\n",
    "datasetLoader.join_csv()"
   ]
  },
  {
   "cell_type": "code",
   "execution_count": 2,
   "metadata": {},
   "outputs": [
    {
     "name": "stdout",
     "output_type": "stream",
     "text": [
      "skipped: JEST file already exists!\n"
     ]
    }
   ],
   "source": [
    "from utils.dataset import JESTDataset\n",
    "JESTDataset().create_csv()"
   ]
  },
  {
   "cell_type": "code",
   "execution_count": 3,
   "metadata": {},
   "outputs": [
    {
     "name": "stdout",
     "output_type": "stream",
     "text": [
      "skipped: snow_simplified file already exists!\n"
     ]
    }
   ],
   "source": [
    "from utils.dataset import SnowSimplifiedDataset\n",
    "SnowSimplifiedDataset().create_csv()"
   ]
  },
  {
   "cell_type": "code",
   "execution_count": 4,
   "metadata": {},
   "outputs": [
    {
     "name": "stdout",
     "output_type": "stream",
     "text": [
      "skipped: tatoeba file already exists!\n"
     ]
    }
   ],
   "source": [
    "from utils.dataset import TatoebaDataset\n",
    "TatoebaDataset().create_csv()"
   ]
  },
  {
   "cell_type": "code",
   "execution_count": 5,
   "metadata": {},
   "outputs": [
    {
     "name": "stdout",
     "output_type": "stream",
     "text": [
      "skipped: massive_translation file already exists!\n"
     ]
    }
   ],
   "source": [
    "from utils.dataset import MassiveTranslationDataset\n",
    "MassiveTranslationDataset().create_csv()"
   ]
  }
 ],
 "metadata": {
  "kernelspec": {
   "display_name": "venv",
   "language": "python",
   "name": "python3"
  },
  "language_info": {
   "codemirror_mode": {
    "name": "ipython",
    "version": 3
   },
   "file_extension": ".py",
   "mimetype": "text/x-python",
   "name": "python",
   "nbconvert_exporter": "python",
   "pygments_lexer": "ipython3",
   "version": "3.10.10"
  },
  "orig_nbformat": 4
 },
 "nbformat": 4,
 "nbformat_minor": 2
}
