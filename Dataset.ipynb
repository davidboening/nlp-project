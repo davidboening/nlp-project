{
 "cells": [
  {
   "cell_type": "markdown",
   "metadata": {},
   "source": [
    "### Downloads and converts to csv files"
   ]
  },
  {
   "cell_type": "code",
   "execution_count": 1,
   "metadata": {},
   "outputs": [
    {
     "name": "stdout",
     "output_type": "stream",
     "text": [
      "Webpage : https://github.com/venali/BilingualCorpus/\n",
      "Summary : a large scale corpus of manually translated Japanese sentences\n",
      "          extracted from Wikipedia's Kyoto Articles (~500k sentences)\n",
      "skipped: wiki_corpus.csv file already exists!\n"
     ]
    }
   ],
   "source": [
    "from utils.dataset import WikiCorpusDataset\n",
    "\n",
    "WikiCorpusDataset.info()\n",
    "WikiCorpusDataset.create_csv()"
   ]
  },
  {
   "cell_type": "code",
   "execution_count": 2,
   "metadata": {},
   "outputs": [
    {
     "name": "stdout",
     "output_type": "stream",
     "text": [
      "Webpage: https://nlp.stanford.edu/projects/jesc/\n",
      "Paper  : https://arxiv.org/abs/1710.10639\n",
      "Summary: Japanese-English Subtitle Corpus (2.8M sentences)\n",
      "skipped: jesc.csv file already exists!\n"
     ]
    }
   ],
   "source": [
    "from utils.dataset import JESCDataset\n",
    "\n",
    "JESCDataset.info()\n",
    "JESCDataset.create_csv()"
   ]
  },
  {
   "cell_type": "code",
   "execution_count": 3,
   "metadata": {},
   "outputs": [
    {
     "name": "stdout",
     "output_type": "stream",
     "text": [
      "Webpage: https://huggingface.co/datasets/snow_simplified_japanese_corpus\n",
      "Summary: Japanese-English sentence pairs, all Japanese sentences have\n",
      "         a simplified counterpart (85k(x2) sentences)\n",
      "skipped: snow_simplified.csv file already exists!\n"
     ]
    }
   ],
   "source": [
    "from utils.dataset import SnowSimplifiedDataset\n",
    "\n",
    "SnowSimplifiedDataset.info()\n",
    "SnowSimplifiedDataset.create_csv()"
   ]
  },
  {
   "cell_type": "code",
   "execution_count": 4,
   "metadata": {},
   "outputs": [
    {
     "name": "stdout",
     "output_type": "stream",
     "text": [
      "Webpage    : https://opus.nlpl.eu/Tatoeba.php\n",
      "Webpage(HF): https://huggingface.co/datasets/tatoeba\n",
      "Summary    : a collection of sentences from https://tatoeba.org/en/, contains\n",
      "             over 400 languages ([en-ja] 200k sentences)\n",
      "skipped: tatoeba.csv file already exists!\n"
     ]
    }
   ],
   "source": [
    "from utils.dataset import TatoebaDataset\n",
    "\n",
    "TatoebaDataset.info()\n",
    "TatoebaDataset.create_csv()"
   ]
  },
  {
   "cell_type": "code",
   "execution_count": 5,
   "metadata": {},
   "outputs": [
    {
     "name": "stdout",
     "output_type": "stream",
     "text": [
      "Webpage: https://huggingface.co/datasets/Amani27/massive_translation_dataset\n",
      "Summary: dataset derived from AmazonScience/MASSIVE for translation\n",
      "         (16k sentences in 10 languages)\n",
      "skipped: massive_translation.csv file already exists!\n"
     ]
    }
   ],
   "source": [
    "from utils.dataset import MassiveTranslationDataset\n",
    "\n",
    "MassiveTranslationDataset.info()\n",
    "MassiveTranslationDataset.create_csv()"
   ]
  }
 ],
 "metadata": {
  "kernelspec": {
   "display_name": "venv",
   "language": "python",
   "name": "python3"
  },
  "language_info": {
   "codemirror_mode": {
    "name": "ipython",
    "version": 3
   },
   "file_extension": ".py",
   "mimetype": "text/x-python",
   "name": "python",
   "nbconvert_exporter": "python",
   "pygments_lexer": "ipython3",
   "version": "3.10.10"
  },
  "orig_nbformat": 4
 },
 "nbformat": 4,
 "nbformat_minor": 2
}
