{
 "cells": [
  {
   "cell_type": "code",
   "execution_count": 1,
   "metadata": {},
   "outputs": [],
   "source": [
    "import xml.etree.ElementTree as xml_tree\n",
    "import os\n",
    "from tqdm.notebook import tqdm"
   ]
  },
  {
   "cell_type": "code",
   "execution_count": 2,
   "metadata": {},
   "outputs": [],
   "source": [
    "def get_parallel_corpus(xml_file):\n",
    "    try:\n",
    "        tree = xml_tree.parse(xml_file)\n",
    "        root = tree.getroot()\n",
    "        assert root.get(\"orl\") == \"ja\" and root.get(\"trl\") == \"en\"\n",
    "        file_id = root.find(\"inf\").text\n",
    "        title_data = root.find(\"tit\")\n",
    "        title_ja = title_data.find(\"j\").text\n",
    "        title_en_data = title_data.findall(\"e\")[-1]\n",
    "        assert (title_en_data.attrib[\"type\"] == \"check\")\n",
    "        title_en = title_en_data.text\n",
    "\n",
    "        sentences = root.findall(\"./par/sen\")\n",
    "        parallel_corpus = []\n",
    "        for s in sentences:\n",
    "            source_s = s.find(\"j\").text\n",
    "            target_s_data = s.findall(\"e\")[-1]\n",
    "            assert (target_s_data.attrib[\"type\"] == \"check\")\n",
    "            target_s = target_s_data.text\n",
    "            parallel_corpus.append((source_s, target_s))\n",
    "        return parallel_corpus, file_id, (title_ja, title_en)\n",
    "    except xml_tree.ParseError:\n",
    "        return None"
   ]
  },
  {
   "cell_type": "code",
   "execution_count": 3,
   "metadata": {},
   "outputs": [],
   "source": [
    "def get_combined_parallel_corpora(category):\n",
    "    for (dirpath, dirnames, filenames) in os.walk(category):\n",
    "        # extend filenames only\n",
    "        parallel_corpus = []\n",
    "        for file in tqdm(filenames):\n",
    "            data = get_parallel_corpus(category + \"/\" + file)\n",
    "            if data is not None:\n",
    "                corpora, _, title_both = data\n",
    "                parallel_corpus.append(title_both)\n",
    "                parallel_corpus.extend(corpora)\n",
    "        # first level only\n",
    "        break\n",
    "    return parallel_corpus"
   ]
  },
  {
   "cell_type": "code",
   "execution_count": 4,
   "metadata": {},
   "outputs": [],
   "source": [
    "def save_corpus_as_csv(corpus, path):\n",
    "    with open(path, \"wb+\") as csv_file:\n",
    "        header_str = f'ja_source, en_target\\n'\n",
    "        csv_file.write(header_str.encode(\"utf-8\"))\n",
    "        for (source, target) in corpus:\n",
    "            save_str = f'\"{source}\", \"{target}\"\\n'\n",
    "            csv_file.write(save_str.encode(\"utf-8\"))\n",
    "    return"
   ]
  },
  {
   "cell_type": "code",
   "execution_count": 5,
   "metadata": {},
   "outputs": [],
   "source": [
    "def get_categories(base_path=r\"./data/wiki_corpus_2.01\"):\n",
    "    for (dirpath, dirnames, filenames) in os.walk(base_path):\n",
    "        break\n",
    "    return dirnames"
   ]
  },
  {
   "cell_type": "code",
   "execution_count": 6,
   "metadata": {},
   "outputs": [],
   "source": [
    "def create_category_csv(category, base_path=r\"./data/wiki_corpus_2.01\", out_folder=r\"./data-post/wiki_corpus_2.01\"):\n",
    "    assert category in get_categories(base_path=base_path), f\"category [{category}] does not exist!\"\n",
    "    if os.path.exists(f\"{out_folder}/{category}.csv\"):\n",
    "        print(f\"skipping file [{out_folder}/{category}.csv], file already exists!\")\n",
    "        return\n",
    "    corpus = get_combined_parallel_corpora(f\"{base_path}/{category}\")\n",
    "    save_corpus_as_csv(corpus, f\"{out_folder}/{category}.csv\")\n",
    "    return"
   ]
  },
  {
   "cell_type": "code",
   "execution_count": 7,
   "metadata": {},
   "outputs": [],
   "source": [
    "def create_all_csv(base_path=r\"./data/wiki_corpus_2.01\", out_folder=r\"./data-post/wiki_corpus_2.01\"):\n",
    "    for category in tqdm(get_categories(base_path=base_path)):\n",
    "        create_category_csv(category, base_path=base_path, out_folder=out_folder)\n",
    "    return "
   ]
  },
  {
   "cell_type": "code",
   "execution_count": 8,
   "metadata": {},
   "outputs": [
    {
     "data": {
      "application/vnd.jupyter.widget-view+json": {
       "model_id": "7576b46abda7460cbe42df972b7cf211",
       "version_major": 2,
       "version_minor": 0
      },
      "text/plain": [
       "  0%|          | 0/15 [00:00<?, ?it/s]"
      ]
     },
     "metadata": {},
     "output_type": "display_data"
    },
    {
     "data": {
      "application/vnd.jupyter.widget-view+json": {
       "model_id": "bee35a0824124e578e3a6f2f5e543c30",
       "version_major": 2,
       "version_minor": 0
      },
      "text/plain": [
       "  0%|          | 0/1061 [00:00<?, ?it/s]"
      ]
     },
     "metadata": {},
     "output_type": "display_data"
    },
    {
     "data": {
      "application/vnd.jupyter.widget-view+json": {
       "model_id": "dfced71612a14be0b6737f802a9f3c03",
       "version_major": 2,
       "version_minor": 0
      },
      "text/plain": [
       "  0%|          | 0/496 [00:00<?, ?it/s]"
      ]
     },
     "metadata": {},
     "output_type": "display_data"
    },
    {
     "data": {
      "application/vnd.jupyter.widget-view+json": {
       "model_id": "b9f6478e9fac46d3b3c777b416102e86",
       "version_major": 2,
       "version_minor": 0
      },
      "text/plain": [
       "  0%|          | 0/2044 [00:00<?, ?it/s]"
      ]
     },
     "metadata": {},
     "output_type": "display_data"
    },
    {
     "data": {
      "application/vnd.jupyter.widget-view+json": {
       "model_id": "a8504ce2e1dc416598c3705f7047b77e",
       "version_major": 2,
       "version_minor": 0
      },
      "text/plain": [
       "  0%|          | 0/772 [00:00<?, ?it/s]"
      ]
     },
     "metadata": {},
     "output_type": "display_data"
    },
    {
     "data": {
      "application/vnd.jupyter.widget-view+json": {
       "model_id": "203400f574ed4834ac2e4e788b950dee",
       "version_major": 2,
       "version_minor": 0
      },
      "text/plain": [
       "  0%|          | 0/232 [00:00<?, ?it/s]"
      ]
     },
     "metadata": {},
     "output_type": "display_data"
    },
    {
     "data": {
      "application/vnd.jupyter.widget-view+json": {
       "model_id": "eb0f762625984b1b94582d42e82451a2",
       "version_major": 2,
       "version_minor": 0
      },
      "text/plain": [
       "  0%|          | 0/343 [00:00<?, ?it/s]"
      ]
     },
     "metadata": {},
     "output_type": "display_data"
    },
    {
     "data": {
      "application/vnd.jupyter.widget-view+json": {
       "model_id": "66214ff9de894d14a70c64b7ff7b32e7",
       "version_major": 2,
       "version_minor": 0
      },
      "text/plain": [
       "  0%|          | 0/1966 [00:00<?, ?it/s]"
      ]
     },
     "metadata": {},
     "output_type": "display_data"
    },
    {
     "data": {
      "application/vnd.jupyter.widget-view+json": {
       "model_id": "e7103453ebb2486d9bc90b88343f6beb",
       "version_major": 2,
       "version_minor": 0
      },
      "text/plain": [
       "  0%|          | 0/678 [00:00<?, ?it/s]"
      ]
     },
     "metadata": {},
     "output_type": "display_data"
    },
    {
     "data": {
      "application/vnd.jupyter.widget-view+json": {
       "model_id": "f9171a3404ce43ea8bab254d77941fe4",
       "version_major": 2,
       "version_minor": 0
      },
      "text/plain": [
       "  0%|          | 0/4678 [00:00<?, ?it/s]"
      ]
     },
     "metadata": {},
     "output_type": "display_data"
    },
    {
     "data": {
      "application/vnd.jupyter.widget-view+json": {
       "model_id": "a9856f445b5343afb9a62b6e64994565",
       "version_major": 2,
       "version_minor": 0
      },
      "text/plain": [
       "  0%|          | 0/290 [00:00<?, ?it/s]"
      ]
     },
     "metadata": {},
     "output_type": "display_data"
    },
    {
     "data": {
      "application/vnd.jupyter.widget-view+json": {
       "model_id": "d26005f73e3d47dbb2a1860828ea793c",
       "version_major": 2,
       "version_minor": 0
      },
      "text/plain": [
       "  0%|          | 0/191 [00:00<?, ?it/s]"
      ]
     },
     "metadata": {},
     "output_type": "display_data"
    },
    {
     "data": {
      "application/vnd.jupyter.widget-view+json": {
       "model_id": "369a2602ea744368b94f4531b0fa4d58",
       "version_major": 2,
       "version_minor": 0
      },
      "text/plain": [
       "  0%|          | 0/534 [00:00<?, ?it/s]"
      ]
     },
     "metadata": {},
     "output_type": "display_data"
    },
    {
     "data": {
      "application/vnd.jupyter.widget-view+json": {
       "model_id": "521f038904a343a082b2e0d25dbe9f56",
       "version_major": 2,
       "version_minor": 0
      },
      "text/plain": [
       "  0%|          | 0/46 [00:00<?, ?it/s]"
      ]
     },
     "metadata": {},
     "output_type": "display_data"
    },
    {
     "data": {
      "application/vnd.jupyter.widget-view+json": {
       "model_id": "40ddeecf0dc44acbbee28c4eb4e9350e",
       "version_major": 2,
       "version_minor": 0
      },
      "text/plain": [
       "  0%|          | 0/413 [00:00<?, ?it/s]"
      ]
     },
     "metadata": {},
     "output_type": "display_data"
    },
    {
     "data": {
      "application/vnd.jupyter.widget-view+json": {
       "model_id": "c04b1a78bb9d437c96441b321a6d2bcd",
       "version_major": 2,
       "version_minor": 0
      },
      "text/plain": [
       "  0%|          | 0/367 [00:00<?, ?it/s]"
      ]
     },
     "metadata": {},
     "output_type": "display_data"
    }
   ],
   "source": [
    "# BASE FOLDER\n",
    "PATH = r\"./data/wiki_corpus_2.01/\"\n",
    "CATEGORY = \"CLT\"\n",
    "\n",
    "# create_category_csv(CATEGORY)\n",
    "create_all_csv()"
   ]
  }
 ],
 "metadata": {
  "kernelspec": {
   "display_name": "venv",
   "language": "python",
   "name": "python3"
  },
  "language_info": {
   "codemirror_mode": {
    "name": "ipython",
    "version": 3
   },
   "file_extension": ".py",
   "mimetype": "text/x-python",
   "name": "python",
   "nbconvert_exporter": "python",
   "pygments_lexer": "ipython3",
   "version": "3.10.10"
  },
  "orig_nbformat": 4
 },
 "nbformat": 4,
 "nbformat_minor": 2
}
