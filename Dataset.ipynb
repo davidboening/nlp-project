{
 "cells": [
  {
   "cell_type": "markdown",
   "metadata": {},
   "source": [
    "## Downloads and Preprocess"
   ]
  },
  {
   "cell_type": "code",
   "execution_count": 1,
   "metadata": {},
   "outputs": [
    {
     "name": "stdout",
     "output_type": "stream",
     "text": [
      "Webpage: https://nlp.stanford.edu/projects/jesc/\n",
      "Paper  : https://arxiv.org/abs/1710.10639\n",
      "Summary: Japanese-English Subtitle Corpus (2.8M sentences)\n",
      "skipped: jesc.csv file already exists!\n"
     ]
    }
   ],
   "source": [
    "from utils.dataset import JESCDataset\n",
    "\n",
    "JESCDataset.info()\n",
    "JESCDataset.create_csv()"
   ]
  },
  {
   "cell_type": "code",
   "execution_count": 2,
   "metadata": {},
   "outputs": [
    {
     "name": "stdout",
     "output_type": "stream",
     "text": [
      "Webpage : https://github.com/venali/BilingualCorpus/\n",
      "Summary : a large scale corpus of manually translated Japanese sentences\n",
      "          extracted from Wikipedia's Kyoto Articles (~500k sentences)\n",
      "skipped: wiki_corpus.csv file already exists!\n"
     ]
    }
   ],
   "source": [
    "from utils.dataset import WikiCorpusDataset\n",
    "\n",
    "WikiCorpusDataset.info()\n",
    "WikiCorpusDataset.create_csv()"
   ]
  },
  {
   "cell_type": "code",
   "execution_count": 3,
   "metadata": {},
   "outputs": [
    {
     "name": "stdout",
     "output_type": "stream",
     "text": [
      "Webpage    : https://opus.nlpl.eu/Tatoeba.php\n",
      "Webpage(HF): https://huggingface.co/datasets/tatoeba\n",
      "Summary    : a collection of sentences from https://tatoeba.org/en/, contains\n",
      "             over 400 languages ([en-ja] 200k sentences)\n",
      "skipped: tatoeba.csv file already exists!\n"
     ]
    }
   ],
   "source": [
    "from utils.dataset import TatoebaDataset\n",
    "\n",
    "TatoebaDataset.info()\n",
    "TatoebaDataset.create_csv()"
   ]
  },
  {
   "cell_type": "code",
   "execution_count": 4,
   "metadata": {},
   "outputs": [
    {
     "name": "stdout",
     "output_type": "stream",
     "text": [
      "Webpage: https://huggingface.co/datasets/snow_simplified_japanese_corpus\n",
      "Summary: Japanese-English sentence pairs, all Japanese sentences have\n",
      "         a simplified counterpart (85k(x2) sentences)\n",
      "skipped: snow_simplified.csv file already exists!\n"
     ]
    }
   ],
   "source": [
    "from utils.dataset import SnowSimplifiedDataset\n",
    "\n",
    "SnowSimplifiedDataset.info()\n",
    "SnowSimplifiedDataset.create_csv()"
   ]
  },
  {
   "cell_type": "code",
   "execution_count": 5,
   "metadata": {},
   "outputs": [
    {
     "name": "stdout",
     "output_type": "stream",
     "text": [
      "Webpage: https://huggingface.co/datasets/Amani27/massive_translation_dataset\n",
      "Summary: dataset derived from AmazonScience/MASSIVE for translation\n",
      "         (16k sentences in 10 languages)\n",
      "skipped: massive_translation.csv file already exists!\n"
     ]
    }
   ],
   "source": [
    "from utils.dataset import MassiveTranslationDataset\n",
    "\n",
    "MassiveTranslationDataset.info()\n",
    "MassiveTranslationDataset.create_csv()"
   ]
  },
  {
   "cell_type": "markdown",
   "metadata": {},
   "source": [
    "## Dataset Statistics"
   ]
  },
  {
   "cell_type": "code",
   "execution_count": 6,
   "metadata": {},
   "outputs": [
    {
     "name": "stderr",
     "output_type": "stream",
     "text": [
      "You are using the legacy behaviour of the <class 'transformers.models.t5.tokenization_t5.T5Tokenizer'>. This means that tokens that come after special tokens will not be properly handled. We recommend you to read the related pull request available at https://github.com/huggingface/transformers/pull/24565\n"
     ]
    }
   ],
   "source": [
    "from transformers import AutoTokenizer\n",
    "\n",
    "ja_en = (\n",
    "    AutoTokenizer.from_pretrained(\"cl-tohoku/bert-base-japanese-v3\", use_fast=True),\n",
    "    AutoTokenizer.from_pretrained(\"gpt2\", use_fast=True)\n",
    ")\n",
    "en_ja = (\n",
    "    AutoTokenizer.from_pretrained(\"bert-base-uncased\", use_fast=True),\n",
    "    AutoTokenizer.from_pretrained(\"rinna/japanese-gpt2-small\", use_fast=True)\n",
    ")"
   ]
  },
  {
   "cell_type": "code",
   "execution_count": 7,
   "metadata": {},
   "outputs": [
    {
     "name": "stdout",
     "output_type": "stream",
     "text": [
      "Showing statistic for 2,801,388 sentences:\n",
      "\ten[tokens] : Avg. 18.85 | Min.     3 | Max.   157 | >16. 1,492,905 | >32. 204645 | >64.  6990 | >128.    17\n",
      "\tja[tokens] : Avg. 19.91 | Min.     1 | Max.   199 | >16. 1,573,742 | >32. 328914 | >64. 11251 | >128.    29\n",
      "Showing statistic for 2,801,388 sentences:\n",
      "\ten[tokens] : Avg. 11.52 | Min.     3 | Max.    92 | >16. 386,317 | >32. 12634 | >64.    60 | >128.     0\n",
      "\tja[tokens] : Avg. 10.09 | Min.     2 | Max.    94 | >16. 241,813 | >32.  4131 | >64.    14 | >128.     0\n"
     ]
    }
   ],
   "source": [
    "JESCDataset.stats(*ja_en, num_proc=8)\n",
    "JESCDataset.stats(*en_ja, num_proc=8)"
   ]
  },
  {
   "cell_type": "code",
   "execution_count": 8,
   "metadata": {},
   "outputs": [
    {
     "name": "stdout",
     "output_type": "stream",
     "text": [
      "Showing statistic for 457,687 sentences:\n",
      "\ten[tokens] : Avg. 58.88 | Min.     3 | Max.   906 | >16. 399,174 | >32. 318507 | >64. 164503 | >128. 30829\n",
      "\tja[tokens] : Avg. 60.15 | Min.     1 | Max.  1253 | >16. 389,866 | >32. 318059 | >64. 174246 | >128. 34057\n",
      "Showing statistic for 457,687 sentences:\n",
      "\ten[tokens] : Avg. 34.02 | Min.     3 | Max.   826 | >16. 345,465 | >32. 197378 | >64. 46236 | >128.  2747\n",
      "\tja[tokens] : Avg. 23.24 | Min.     2 | Max.   654 | >16. 276,755 | >32. 102738 | >64.  9818 | >128.   253\n"
     ]
    }
   ],
   "source": [
    "WikiCorpusDataset.stats(*ja_en, num_proc=8)\n",
    "WikiCorpusDataset.stats(*en_ja, num_proc=8)"
   ]
  },
  {
   "cell_type": "code",
   "execution_count": 9,
   "metadata": {},
   "outputs": [
    {
     "name": "stdout",
     "output_type": "stream",
     "text": [
      "Showing statistic for 208,861 sentences:\n",
      "\ten[tokens] : Avg. 19.47 | Min.     4 | Max.   232 | >16. 126,111 | >32. 11217 | >64.   722 | >128.    42\n",
      "\tja[tokens] : Avg. 25.32 | Min.     3 | Max.   420 | >16. 173,528 | >32. 37387 | >64.  2081 | >128.   138\n",
      "Showing statistic for 208,861 sentences:\n",
      "\ten[tokens] : Avg. 11.56 | Min.     4 | Max.   126 | >16.  18,052 | >32.  1035 | >64.    48 | >128.     0\n",
      "\tja[tokens] : Avg. 11.07 | Min.     3 | Max.   153 | >16.  15,203 | >32.   703 | >64.    46 | >128.     2\n"
     ]
    }
   ],
   "source": [
    "TatoebaDataset.stats(*ja_en, num_proc=8)\n",
    "TatoebaDataset.stats(*en_ja, num_proc=8)"
   ]
  },
  {
   "cell_type": "code",
   "execution_count": 10,
   "metadata": {},
   "outputs": [
    {
     "name": "stdout",
     "output_type": "stream",
     "text": [
      "Showing statistic for 100,000 sentences:\n",
      "\ten[tokens] : Avg. 16.32 | Min.     7 | Max.    35 | >16.  44,654 | >32.    30 | >64.     0 | >128.     0\n",
      "\tja[tokens] : Avg. 21.12 | Min.     5 | Max.    62 | >16.  79,057 | >32.  2502 | >64.     0 | >128.     0\n",
      "Showing statistic for 100,000 sentences:\n",
      "\ten[tokens] : Avg. 10.03 | Min.     6 | Max.    21 | >16.     586 | >32.     0 | >64.     0 | >128.     0\n",
      "\tja[tokens] : Avg.  9.33 | Min.     4 | Max.    21 | >16.     127 | >32.     0 | >64.     0 | >128.     0\n"
     ]
    }
   ],
   "source": [
    "SnowSimplifiedDataset.stats(*ja_en, num_proc=2)\n",
    "SnowSimplifiedDataset.stats(*en_ja, num_proc=2)"
   ]
  },
  {
   "cell_type": "code",
   "execution_count": 11,
   "metadata": {},
   "outputs": [
    {
     "name": "stdout",
     "output_type": "stream",
     "text": [
      "Showing statistic for 16,521 sentences:\n",
      "\ten[tokens] : Avg. 17.02 | Min.     3 | Max.   155 | >16.   7,666 | >32.   528 | >64.     7 | >128.     1\n",
      "\tja[tokens] : Avg. 20.81 | Min.     1 | Max.   192 | >16.  10,496 | >32.  1773 | >64.    20 | >128.     1\n",
      "Showing statistic for 16,521 sentences:\n",
      "\ten[tokens] : Avg.  9.48 | Min.     3 | Max.    64 | >16.     763 | >32.     4 | >64.     0 | >128.     0\n",
      "\tja[tokens] : Avg.  9.27 | Min.     2 | Max.    51 | >16.     650 | >32.     4 | >64.     0 | >128.     0\n"
     ]
    }
   ],
   "source": [
    "MassiveTranslationDataset.stats(*ja_en, num_proc=2)\n",
    "MassiveTranslationDataset.stats(*en_ja, num_proc=2)"
   ]
  }
 ],
 "metadata": {
  "kernelspec": {
   "display_name": "venv",
   "language": "python",
   "name": "python3"
  },
  "language_info": {
   "codemirror_mode": {
    "name": "ipython",
    "version": 3
   },
   "file_extension": ".py",
   "mimetype": "text/x-python",
   "name": "python",
   "nbconvert_exporter": "python",
   "pygments_lexer": "ipython3",
   "version": "3.10.10"
  },
  "orig_nbformat": 4
 },
 "nbformat": 4,
 "nbformat_minor": 2
}
