{
 "cells": [
  {
   "cell_type": "code",
   "execution_count": 1,
   "metadata": {},
   "outputs": [],
   "source": [
    "import os\n",
    "os.environ[\"HF_HOME\"] = r\"./.cache\""
   ]
  },
  {
   "cell_type": "markdown",
   "metadata": {},
   "source": [
    "## Downloads and Preprocess"
   ]
  },
  {
   "cell_type": "code",
   "execution_count": 2,
   "metadata": {},
   "outputs": [
    {
     "name": "stdout",
     "output_type": "stream",
     "text": [
      "Webpage: https://nlp.stanford.edu/projects/jesc/\n",
      "Paper  : https://arxiv.org/abs/1710.10639\n",
      "Summary: Japanese-English Subtitle Corpus (2.8M sentences)\n"
     ]
    },
    {
     "data": {
      "text/plain": [
       "{'en_sentence': \"you are back, aren't you, harold?\",\n",
       " 'ja_sentence': 'あなたは戻ったのね ハロルド?'}"
      ]
     },
     "execution_count": 2,
     "metadata": {},
     "output_type": "execute_result"
    }
   ],
   "source": [
    "from utils.dataset import JESC\n",
    "\n",
    "JESC.info()\n",
    "JESC.create_csv()\n",
    "JESC.load()[0]"
   ]
  },
  {
   "cell_type": "code",
   "execution_count": 3,
   "metadata": {},
   "outputs": [
    {
     "name": "stdout",
     "output_type": "stream",
     "text": [
      "Webpage : https://github.com/venali/BilingualCorpus/\n",
      "Summary : a large scale corpus of manually translated Japanese sentences\n",
      "          extracted from Wikipedia's Kyoto Articles (~500k sentences)\n"
     ]
    },
    {
     "data": {
      "application/vnd.jupyter.widget-view+json": {
       "model_id": "8536a51b2c684510a8893cd1c45d5b0d",
       "version_major": 2,
       "version_minor": 0
      },
      "text/plain": [
       "Parsing XML files: 0 Files [00:00, ? Files/s]"
      ]
     },
     "metadata": {},
     "output_type": "display_data"
    },
    {
     "data": {
      "text/plain": [
       "{'en_sentence': 'Sesshu', 'ja_sentence': '雪舟'}"
      ]
     },
     "execution_count": 3,
     "metadata": {},
     "output_type": "execute_result"
    }
   ],
   "source": [
    "from utils.dataset import WikiCorpus\n",
    "\n",
    "WikiCorpus.info()\n",
    "WikiCorpus.create_csv()\n",
    "WikiCorpus.load()[0]"
   ]
  },
  {
   "cell_type": "code",
   "execution_count": 4,
   "metadata": {},
   "outputs": [
    {
     "name": "stdout",
     "output_type": "stream",
     "text": [
      "Webpage    : https://opus.nlpl.eu/Tatoeba.php\n",
      "Webpage(HF): https://huggingface.co/datasets/tatoeba\n",
      "Summary    : a collection of sentences from https://tatoeba.org/en/, contains\n",
      "             over 400 languages ([en-ja] 200k sentences)\n"
     ]
    },
    {
     "data": {
      "text/plain": [
       "{'en_sentence': \"Let's try something.\", 'ja_sentence': '何かしてみましょう。'}"
      ]
     },
     "execution_count": 4,
     "metadata": {},
     "output_type": "execute_result"
    }
   ],
   "source": [
    "from utils.dataset import Tatoeba\n",
    "\n",
    "Tatoeba.info()\n",
    "Tatoeba.create_csv()\n",
    "Tatoeba.load()[0]"
   ]
  },
  {
   "cell_type": "code",
   "execution_count": 5,
   "metadata": {},
   "outputs": [
    {
     "name": "stdout",
     "output_type": "stream",
     "text": [
      "Webpage: https://huggingface.co/datasets/snow_simplified_japanese_corpus\n",
      "Summary: Japanese-English sentence pairs, all Japanese sentences have\n",
      "         a simplified counterpart (85k(x2) sentences)\n"
     ]
    },
    {
     "data": {
      "text/plain": [
       "{'en_sentence': \"i can 't tell who will arrive first .\",\n",
       " 'ja_sentence': '誰が一番に着くか私には分かりません。'}"
      ]
     },
     "execution_count": 5,
     "metadata": {},
     "output_type": "execute_result"
    }
   ],
   "source": [
    "from utils.dataset import SnowSimplified\n",
    "\n",
    "SnowSimplified.info()\n",
    "SnowSimplified.create_csv()\n",
    "SnowSimplified.load()[0]"
   ]
  },
  {
   "cell_type": "code",
   "execution_count": 6,
   "metadata": {},
   "outputs": [
    {
     "name": "stdout",
     "output_type": "stream",
     "text": [
      "Webpage: https://huggingface.co/datasets/Amani27/massive_translation_dataset\n",
      "Summary: dataset derived from AmazonScience/MASSIVE for translation\n",
      "         (16k sentences in 10 languages)\n"
     ]
    },
    {
     "data": {
      "text/plain": [
       "{'en_sentence': 'wake me up at nine am on friday',\n",
       " 'ja_sentence': '金曜日の午前九時に起こしてください'}"
      ]
     },
     "execution_count": 6,
     "metadata": {},
     "output_type": "execute_result"
    }
   ],
   "source": [
    "from utils.dataset import MassiveTranslation\n",
    "\n",
    "MassiveTranslation.info()\n",
    "MassiveTranslation.create_csv()\n",
    "MassiveTranslation.load()[0]"
   ]
  },
  {
   "cell_type": "code",
   "execution_count": 7,
   "metadata": {},
   "outputs": [
    {
     "name": "stdout",
     "output_type": "stream",
     "text": [
      "Webpage    : https://sites.google.com/site/iwsltevaluation2017/TED-tasks\n",
      "Webpage(HF): https://huggingface.co/datasets/iwslt2017\n",
      "Summary    : a collection of multilingual tasks, one of which is bilingual\n",
      "             corpora of 230k [en-ja] sentences.\n"
     ]
    },
    {
     "data": {
      "text/plain": [
       "{'en_sentence': \"Thank you so much, Chris. And it's truly a great honor to have the opportunity to come to this stage twice; I'm extremely grateful.\",\n",
       " 'ja_sentence': 'どうもありがとう クリス このステージに立てる機会を 2度もいただけるというのは実に光栄なことで とてもうれしく思っています'}"
      ]
     },
     "execution_count": 7,
     "metadata": {},
     "output_type": "execute_result"
    }
   ],
   "source": [
    "from utils.dataset import IWSLT2017\n",
    "\n",
    "IWSLT2017.info()\n",
    "IWSLT2017.create_csv()\n",
    "IWSLT2017.load()[0]"
   ]
  },
  {
   "cell_type": "code",
   "execution_count": 8,
   "metadata": {},
   "outputs": [
    {
     "name": "stdout",
     "output_type": "stream",
     "text": [
      "Webpage    : https://github.com/EdinburghNLP/opus-100-corpus\n",
      "Webpage(HF): https://huggingface.co/datasets/opus100\n",
      "Summary    : a multilingual corpus with 1M [en-ja] sentences,\n",
      "             of various origins.\n"
     ]
    },
    {
     "data": {
      "text/plain": [
       "{'en_sentence': 'Yeah, Vincent Hanna.',\n",
       " 'ja_sentence': '- ラウール - ラウールに ヴィンセント・ハンナだ'}"
      ]
     },
     "execution_count": 8,
     "metadata": {},
     "output_type": "execute_result"
    }
   ],
   "source": [
    "from utils.dataset import OPUS100\n",
    "\n",
    "OPUS100.info()\n",
    "OPUS100.create_csv()\n",
    "OPUS100.load()[0]"
   ]
  },
  {
   "cell_type": "markdown",
   "metadata": {},
   "source": [
    "## Combining Datasets Examples"
   ]
  },
  {
   "cell_type": "code",
   "execution_count": 9,
   "metadata": {},
   "outputs": [],
   "source": [
    "from tokenizers import processors\n",
    "from transformers import AutoTokenizer\n",
    "\n",
    "source_lng = \"ja\"\n",
    "\n",
    "if source_lng == \"en\": \n",
    "    target_lng = \"ja\"\n",
    "    encoder = \"bert-base-uncased\"\n",
    "    decoder = \"rinna/japanese-gpt2-small\" \n",
    "else: \n",
    "    target_lng = \"en\"\n",
    "    encoder = \"cl-tohoku/bert-base-japanese-v3\"\n",
    "    decoder = \"gpt2\"\n",
    "\n",
    "encoder_tokenizer = AutoTokenizer.from_pretrained(encoder, use_fast=True)\n",
    "decoder_tokenizer = AutoTokenizer.from_pretrained(decoder, use_fast=True)\n",
    "if decoder_tokenizer.pad_token_id is None:\n",
    "    decoder_tokenizer.pad_token_id = decoder_tokenizer.eos_token_id\n",
    "\n",
    "# adds an EOS token at the end of each sentence\n",
    "decoder_tokenizer._tokenizer.post_processor = processors.TemplateProcessing(\n",
    "    single=\"$A \" + decoder_tokenizer.eos_token,\n",
    "    special_tokens=[(decoder_tokenizer.eos_token, decoder_tokenizer.eos_token_id)],\n",
    ")"
   ]
  },
  {
   "cell_type": "code",
   "execution_count": 10,
   "metadata": {},
   "outputs": [
    {
     "data": {
      "application/vnd.jupyter.widget-view+json": {
       "model_id": "52bd82b076b8488eb8a20cb7ac94c183",
       "version_major": 2,
       "version_minor": 0
      },
      "text/plain": [
       "Map (num_proc=6):   0%|          | 0/100000 [00:00<?, ? examples/s]"
      ]
     },
     "metadata": {},
     "output_type": "display_data"
    },
    {
     "data": {
      "application/vnd.jupyter.widget-view+json": {
       "model_id": "01c90e40b6f64a8393900e8e7b354a1f",
       "version_major": 2,
       "version_minor": 0
      },
      "text/plain": [
       "Filter (num_proc=6):   0%|          | 0/100000 [00:00<?, ? examples/s]"
      ]
     },
     "metadata": {},
     "output_type": "display_data"
    },
    {
     "name": "stdout",
     "output_type": "stream",
     "text": [
      "sampling: 124 out of 100000\n"
     ]
    },
    {
     "data": {
      "application/vnd.jupyter.widget-view+json": {
       "model_id": "1c5f8872c6ce408aa794bedb282a290c",
       "version_major": 2,
       "version_minor": 0
      },
      "text/plain": [
       "Map (num_proc=6):   0%|          | 0/16521 [00:00<?, ? examples/s]"
      ]
     },
     "metadata": {},
     "output_type": "display_data"
    },
    {
     "data": {
      "application/vnd.jupyter.widget-view+json": {
       "model_id": "2a7579985bd34d3cb5db81d5116bb0c1",
       "version_major": 2,
       "version_minor": 0
      },
      "text/plain": [
       "Filter (num_proc=6):   0%|          | 0/16521 [00:00<?, ? examples/s]"
      ]
     },
     "metadata": {},
     "output_type": "display_data"
    },
    {
     "name": "stdout",
     "output_type": "stream",
     "text": [
      "sampling: 50 out of 16491\n"
     ]
    },
    {
     "data": {
      "application/vnd.jupyter.widget-view+json": {
       "model_id": "ae3fec7ad7fa46ec908189c66299ad30",
       "version_major": 2,
       "version_minor": 0
      },
      "text/plain": [
       "Saving the dataset (0/1 shards):   0%|          | 0/174 [00:00<?, ? examples/s]"
      ]
     },
     "metadata": {},
     "output_type": "display_data"
    }
   ],
   "source": [
    "from utils.dataset import EnJaDatasetMaker, EnJaDatasetSample, SnowSimplified, MassiveTranslation\n",
    "\n",
    "dataset = EnJaDatasetMaker.prepare_dataset(\n",
    "    \"ja-en-BERT-GPT2-test\",\n",
    "    [\n",
    "        # lower is inclusive, upper is exclusive (0, 32) -> [0, 31]\n",
    "        EnJaDatasetSample(SnowSimplified,      124, (0, 64)),\n",
    "        EnJaDatasetSample(MassiveTranslation,   50, (0, 32)),\n",
    "    ],\n",
    "    source_language=source_lng,\n",
    "    model_type=\"BERT-GPT2\",\n",
    "    encoder_tokenizer=encoder_tokenizer,\n",
    "    decoder_tokenizer=decoder_tokenizer,\n",
    "    num_proc=6,\n",
    "    seed=42\n",
    ")"
   ]
  },
  {
   "cell_type": "code",
   "execution_count": 11,
   "metadata": {},
   "outputs": [
    {
     "data": {
      "text/plain": [
       "Dataset({\n",
       "    features: ['target', 'source', 'length', 'input_ids', 'attention_mask', 'labels'],\n",
       "    num_rows: 174\n",
       "})"
      ]
     },
     "execution_count": 11,
     "metadata": {},
     "output_type": "execute_result"
    }
   ],
   "source": [
    "dataset = EnJaDatasetMaker.load_dataset(\"ja-en-BERT-GPT2-test\")\n",
    "dataset"
   ]
  },
  {
   "cell_type": "code",
   "execution_count": 12,
   "metadata": {},
   "outputs": [
    {
     "data": {
      "text/plain": [
       "{'target': 'upon my word i will do it .',\n",
       " 'source': '誓って私はそれをします。',\n",
       " 'length': tensor(11),\n",
       " 'input_ids': tensor([    2, 29062,   456,  4262,   465, 12546,   500,   441, 12995,   385,\n",
       "             3]),\n",
       " 'attention_mask': tensor([1, 1, 1, 1, 1, 1, 1, 1, 1, 1, 1]),\n",
       " 'labels': tensor([27287,   616,  1573,  1312,   481,   466,   340,   764, 50256])}"
      ]
     },
     "execution_count": 12,
     "metadata": {},
     "output_type": "execute_result"
    }
   ],
   "source": [
    "dataset[0]"
   ]
  },
  {
   "cell_type": "code",
   "execution_count": 13,
   "metadata": {},
   "outputs": [],
   "source": [
    "from transformers import MBart50TokenizerFast\n",
    "\n",
    "source_lng = \"en\"\n",
    "\n",
    "if source_lng == \"en\":\n",
    "    target_lng = \"ja\"\n",
    "    tokenizer = MBart50TokenizerFast.from_pretrained(\"facebook/mbart-large-50\", src_lang=\"en_XX\", tgt_lang=\"ja_XX\")\n",
    "else: \n",
    "    target_lng = \"en\"\n",
    "    tokenizer = MBart50TokenizerFast.from_pretrained(\"facebook/mbart-large-50\", src_lang=\"ja_XX\", tgt_lang=\"en_XX\")"
   ]
  },
  {
   "cell_type": "code",
   "execution_count": 14,
   "metadata": {},
   "outputs": [
    {
     "data": {
      "application/vnd.jupyter.widget-view+json": {
       "model_id": "151a14a8c6494b06b286efd9f23d5e98",
       "version_major": 2,
       "version_minor": 0
      },
      "text/plain": [
       "Map (num_proc=6):   0%|          | 0/100000 [00:00<?, ? examples/s]"
      ]
     },
     "metadata": {},
     "output_type": "display_data"
    },
    {
     "data": {
      "application/vnd.jupyter.widget-view+json": {
       "model_id": "8486af9f99fb49bbb4e4a947abc1c5ba",
       "version_major": 2,
       "version_minor": 0
      },
      "text/plain": [
       "Filter (num_proc=6):   0%|          | 0/100000 [00:00<?, ? examples/s]"
      ]
     },
     "metadata": {},
     "output_type": "display_data"
    },
    {
     "name": "stdout",
     "output_type": "stream",
     "text": [
      "sampling: 124 out of 100000\n"
     ]
    },
    {
     "data": {
      "application/vnd.jupyter.widget-view+json": {
       "model_id": "ed3123c22db94e94ab3cece70f08d273",
       "version_major": 2,
       "version_minor": 0
      },
      "text/plain": [
       "Map (num_proc=6):   0%|          | 0/16521 [00:00<?, ? examples/s]"
      ]
     },
     "metadata": {},
     "output_type": "display_data"
    },
    {
     "data": {
      "application/vnd.jupyter.widget-view+json": {
       "model_id": "a5ae3527d8da4b87bebd12742166d2f0",
       "version_major": 2,
       "version_minor": 0
      },
      "text/plain": [
       "Filter (num_proc=6):   0%|          | 0/16521 [00:00<?, ? examples/s]"
      ]
     },
     "metadata": {},
     "output_type": "display_data"
    },
    {
     "name": "stdout",
     "output_type": "stream",
     "text": [
      "sampling: 50 out of 16504\n"
     ]
    },
    {
     "data": {
      "application/vnd.jupyter.widget-view+json": {
       "model_id": "52af6ea0fadf496c85b9c466b3a52350",
       "version_major": 2,
       "version_minor": 0
      },
      "text/plain": [
       "Saving the dataset (0/1 shards):   0%|          | 0/174 [00:00<?, ? examples/s]"
      ]
     },
     "metadata": {},
     "output_type": "display_data"
    }
   ],
   "source": [
    "from utils.dataset import EnJaDatasetMaker, EnJaDatasetSample, SnowSimplified, MassiveTranslation\n",
    "\n",
    "dataset = EnJaDatasetMaker.prepare_dataset(\n",
    "    \"en-ja-mBART-test\",\n",
    "    [\n",
    "        # lower is inclusive, upper is exclusive (0, 32) -> [0, 31]\n",
    "        EnJaDatasetSample(SnowSimplified,      124, (0, 64)),\n",
    "        EnJaDatasetSample(MassiveTranslation,   50, (0, 32)),\n",
    "    ],\n",
    "    source_language=source_lng,\n",
    "    model_type=\"mBART\",\n",
    "    tokenizer=tokenizer,\n",
    "    num_proc=6,\n",
    "    seed=42\n",
    ")"
   ]
  },
  {
   "cell_type": "code",
   "execution_count": 15,
   "metadata": {},
   "outputs": [
    {
     "data": {
      "text/plain": [
       "Dataset({\n",
       "    features: ['source', 'target', 'length', 'input_ids', 'attention_mask', 'labels'],\n",
       "    num_rows: 174\n",
       "})"
      ]
     },
     "execution_count": 15,
     "metadata": {},
     "output_type": "execute_result"
    }
   ],
   "source": [
    "dataset = EnJaDatasetMaker.load_dataset(\"en-ja-mBART-test\")\n",
    "dataset"
   ]
  },
  {
   "cell_type": "code",
   "execution_count": 16,
   "metadata": {},
   "outputs": [
    {
     "data": {
      "text/plain": [
       "{'source': 'upon my word i will do it .',\n",
       " 'target': '誓って私はそれをします。',\n",
       " 'length': tensor(11),\n",
       " 'input_ids': tensor([250004,  54799,    759,   2565,     17,   1221,     54,    442,      6,\n",
       "              5,      2]),\n",
       " 'attention_mask': tensor([1, 1, 1, 1, 1, 1, 1, 1, 1, 1, 1]),\n",
       " 'labels': tensor([250012,      6, 111891,   2995,  25711,  37741,   5182,     30,      2])}"
      ]
     },
     "execution_count": 16,
     "metadata": {},
     "output_type": "execute_result"
    }
   ],
   "source": [
    "dataset[0]"
   ]
  },
  {
   "cell_type": "markdown",
   "metadata": {},
   "source": [
    "## Real Dataset"
   ]
  },
  {
   "cell_type": "code",
   "execution_count": null,
   "metadata": {},
   "outputs": [],
   "source": [
    "# from transformers import MBart50TokenizerFast\n",
    "\n",
    "# source_lng = \"en\"\n",
    "\n",
    "# if source_lng == \"en\":\n",
    "#     target_lng = \"ja\"\n",
    "#     tokenizer = MBart50TokenizerFast.from_pretrained(\"facebook/mbart-large-50\", src_lang=\"en_XX\", tgt_lang=\"ja_XX\")\n",
    "# else: \n",
    "#     target_lng = \"en\"\n",
    "#     tokenizer = MBart50TokenizerFast.from_pretrained(\"facebook/mbart-large-50\", src_lang=\"ja_XX\", tgt_lang=\"en_XX\")\n",
    "\n",
    "# from utils.dataset import EnJaDatasetMaker, EnJaDatasetSample, JESC, SnowSimplified, MassiveTranslation, Tatoeba\n",
    "\n",
    "# dataset = EnJaDatasetMaker.prepare_dataset(\n",
    "#     f\"{source_lng}-{target_lng}-final\",\n",
    "#     [\n",
    "#         EnJaDatasetSample(dataset=JESC, nsample=200_000, ntokens=(0, 128)),              # 400k\n",
    "#         EnJaDatasetSample(dataset=MassiveTranslation, nsample=20_000, ntokens=(0, 128)), # all\n",
    "#         EnJaDatasetSample(dataset=SnowSimplified, nsample=50_000, ntokens=(0, 128)),     # half\n",
    "#         EnJaDatasetSample(dataset=Tatoeba, nsample=130_000, ntokens=(0, 128)),           # all\n",
    "#         EnJaDatasetSample(dataset=IWST, nsample=200_000, ntokens=(0, 128))\n",
    "#     ],\n",
    "#     source_language = source_lng,\n",
    "#     model_type= \"mBART\",\n",
    "#     tokenizer = tokenizer,\n",
    "#     num_proc  = 6,\n",
    "#     seed      = 42,\n",
    "#     splits    = (1, 0.1, 0.3) # rescaled to 1\n",
    "# )"
   ]
  },
  {
   "cell_type": "code",
   "execution_count": null,
   "metadata": {},
   "outputs": [],
   "source": [
    "# from transformers import MBart50TokenizerFast\n",
    "\n",
    "# source_lng = \"ja\"\n",
    "\n",
    "# if source_lng == \"en\":\n",
    "#     target_lng = \"ja\"\n",
    "#     tokenizer = MBart50TokenizerFast.from_pretrained(\"facebook/mbart-large-50\", src_lang=\"en_XX\", tgt_lang=\"ja_XX\")\n",
    "# else: \n",
    "#     target_lng = \"en\"\n",
    "#     tokenizer = MBart50TokenizerFast.from_pretrained(\"facebook/mbart-large-50\", src_lang=\"ja_XX\", tgt_lang=\"en_XX\")\n",
    "\n",
    "# from utils.dataset import EnJaDatasetMaker, EnJaDatasetSample, JESC, SnowSimplified, MassiveTranslation, Tatoeba\n",
    "\n",
    "# dataset = EnJaDatasetMaker.prepare_dataset(\n",
    "#     f\"{source_lng}-{target_lng}-final\",\n",
    "#     [\n",
    "#         EnJaDatasetSample(dataset=JESC, nsample=400_000, ntokens=(0, 128)),              # 400k\n",
    "#         EnJaDatasetSample(dataset=MassiveTranslation, nsample=20_000, ntokens=(0, 128)), # all\n",
    "#         EnJaDatasetSample(dataset=SnowSimplified, nsample=50_000, ntokens=(0, 128)),     # half\n",
    "#         EnJaDatasetSample(dataset=Tatoeba, nsample=210_000, ntokens=(0, 128)),           # all\n",
    "#     ],\n",
    "#     source_language = source_lng,\n",
    "#     model_type= \"mBART\",\n",
    "#     tokenizer = tokenizer,\n",
    "#     num_proc  = 6,\n",
    "#     seed      = 42,\n",
    "#     splits    = (1, 0.1, 0.3) # rescaled to 1\n",
    "# )"
   ]
  }
 ],
 "metadata": {
  "kernelspec": {
   "display_name": "venv",
   "language": "python",
   "name": "python3"
  },
  "language_info": {
   "codemirror_mode": {
    "name": "ipython",
    "version": 3
   },
   "file_extension": ".py",
   "mimetype": "text/x-python",
   "name": "python",
   "nbconvert_exporter": "python",
   "pygments_lexer": "ipython3",
   "version": "3.10.10"
  },
  "orig_nbformat": 4
 },
 "nbformat": 4,
 "nbformat_minor": 2
}
