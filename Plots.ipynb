{
 "cells": [
  {
   "cell_type": "code",
   "execution_count": null,
   "metadata": {},
   "outputs": [],
   "source": [
    "import json\n",
    "from pathlib import Path\n",
    "import re\n",
    "import pandas as pd\n",
    "import plotly.express as px"
   ]
  },
  {
   "cell_type": "code",
   "execution_count": null,
   "metadata": {},
   "outputs": [],
   "source": [
    "def load_scores(name):\n",
    "    p = re.compile(r\".*\\\\(.*)\\\\.*\")\n",
    "    data = {}\n",
    "    for fname in Path(\"./evals/\").glob(f\"*/{name}\"):\n",
    "        with fname.open(\"rb\") as fp:\n",
    "            ckp_data = json.load(fp)\n",
    "            ckp_data = dict((int(k), ckp_data[k][\"test_score\"]) for k in ckp_data.keys())\n",
    "            data[p.match(str(fname)).groups()[0]] = ckp_data\n",
    "    return data\n",
    "\n",
    "def convert_to_df(data):\n",
    "    a = []\n",
    "    for k1, d in data.items():\n",
    "        for k2, v in d.items():\n",
    "            if k1.endswith(\"-bt-500k\"):\n",
    "                a.append({\"model\" : f\"base+BT [{k1[:5]}]\", \"ckp\": k2, \"score\": v})\n",
    "            elif k1.endswith(\"+bt-250k\"):\n",
    "                a.append({\"model\" : f\"base [{k1[:5]}]\", \"ckp\": k2, \"score\": v})\n",
    "            elif k1.endswith(\"-mixed-500k\"):\n",
    "                a.append({\"model\" : f\"extended [{k1[:5]}]\", \"ckp\": k2, \"score\": v})\n",
    "    df = pd.DataFrame(a)\n",
    "    return df"
   ]
  },
  {
   "cell_type": "code",
   "execution_count": null,
   "metadata": {},
   "outputs": [],
   "source": [
    "px.line(\n",
    "    convert_to_df(load_scores(\"flores_dev_results.json\")), \n",
    "    x=\"ckp\", y=\"score\", color=\"model\", range_x=(5000, 50000), range_y=(9, 15)\n",
    ")"
   ]
  },
  {
   "cell_type": "code",
   "execution_count": null,
   "metadata": {},
   "outputs": [],
   "source": [
    "convert_to_df(load_scores(\"wmt_results.json\"))"
   ]
  }
 ],
 "metadata": {
  "kernelspec": {
   "display_name": "venv",
   "language": "python",
   "name": "python3"
  },
  "language_info": {
   "codemirror_mode": {
    "name": "ipython",
    "version": 3
   },
   "file_extension": ".py",
   "mimetype": "text/x-python",
   "name": "python",
   "nbconvert_exporter": "python",
   "pygments_lexer": "ipython3",
   "version": "3.10.10"
  },
  "orig_nbformat": 4
 },
 "nbformat": 4,
 "nbformat_minor": 2
}
