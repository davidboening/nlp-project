{
 "cells": [
  {
   "cell_type": "code",
   "execution_count": 1,
   "metadata": {},
   "outputs": [],
   "source": [
    "import os\n",
    "\n",
    "os.environ[\"HF_HOME\"] = r\"./.cache\"\n",
    "from transformers import EncoderDecoderModel, AutoTokenizer, GenerationConfig\n",
    "from datasets import load_dataset"
   ]
  },
  {
   "cell_type": "markdown",
   "metadata": {},
   "source": [
    "- Encoders\n",
    "    - BERT_JA : `cl-tohoku/bert-base-japanese-v3`\n",
    "    - BERT_EN : `bert-base-uncased`, `prajjwal1/bert-tiny`\n",
    "- Decorders\n",
    "    - GPT_JA : `rinna/japanese-gpt2-xsmall`\n",
    "    - GPT_EN : `gpt2`"
   ]
  },
  {
   "cell_type": "code",
   "execution_count": 2,
   "metadata": {},
   "outputs": [
    {
     "name": "stderr",
     "output_type": "stream",
     "text": [
      "Some weights of GPT2LMHeadModel were not initialized from the model checkpoint at gpt2 and are newly initialized: ['h.9.crossattention.c_proj.bias', 'h.10.ln_cross_attn.bias', 'h.5.ln_cross_attn.weight', 'h.8.crossattention.q_attn.weight', 'h.6.crossattention.c_attn.bias', 'h.1.crossattention.c_attn.weight', 'h.11.crossattention.c_proj.bias', 'h.2.ln_cross_attn.bias', 'h.2.crossattention.q_attn.weight', 'h.8.crossattention.c_attn.bias', 'h.2.crossattention.c_attn.weight', 'h.4.crossattention.c_attn.weight', 'h.11.crossattention.c_proj.weight', 'h.9.crossattention.c_attn.bias', 'h.11.ln_cross_attn.weight', 'h.6.ln_cross_attn.weight', 'h.11.ln_cross_attn.bias', 'h.4.crossattention.q_attn.bias', 'h.4.crossattention.q_attn.weight', 'h.3.ln_cross_attn.bias', 'h.11.crossattention.c_attn.bias', 'h.6.crossattention.c_proj.weight', 'h.5.ln_cross_attn.bias', 'h.5.crossattention.q_attn.weight', 'h.8.crossattention.q_attn.bias', 'h.2.crossattention.q_attn.bias', 'h.11.crossattention.q_attn.bias', 'h.9.crossattention.c_attn.weight', 'h.2.ln_cross_attn.weight', 'h.11.crossattention.q_attn.weight', 'h.8.ln_cross_attn.weight', 'h.7.crossattention.c_proj.bias', 'h.9.crossattention.q_attn.weight', 'h.9.ln_cross_attn.bias', 'h.7.crossattention.q_attn.bias', 'h.9.ln_cross_attn.weight', 'h.8.ln_cross_attn.bias', 'h.0.crossattention.q_attn.bias', 'h.10.crossattention.q_attn.weight', 'h.0.crossattention.q_attn.weight', 'h.1.crossattention.c_proj.weight', 'h.4.crossattention.c_proj.weight', 'h.11.crossattention.c_attn.weight', 'h.0.crossattention.c_proj.bias', 'h.3.crossattention.q_attn.bias', 'h.0.crossattention.c_attn.bias', 'h.3.crossattention.c_proj.bias', 'h.7.crossattention.c_attn.weight', 'h.9.crossattention.c_proj.weight', 'h.1.crossattention.q_attn.bias', 'h.7.ln_cross_attn.weight', 'h.4.crossattention.c_attn.bias', 'h.1.crossattention.c_proj.bias', 'h.1.ln_cross_attn.weight', 'h.4.ln_cross_attn.bias', 'h.7.crossattention.q_attn.weight', 'h.10.ln_cross_attn.weight', 'h.2.crossattention.c_proj.bias', 'h.8.crossattention.c_proj.weight', 'h.1.ln_cross_attn.bias', 'h.2.crossattention.c_attn.bias', 'h.3.crossattention.q_attn.weight', 'h.1.crossattention.c_attn.bias', 'h.6.crossattention.c_attn.weight', 'h.5.crossattention.c_attn.bias', 'h.8.crossattention.c_proj.bias', 'h.10.crossattention.c_proj.bias', 'h.4.crossattention.c_proj.bias', 'h.7.crossattention.c_proj.weight', 'h.0.crossattention.c_attn.weight', 'h.5.crossattention.c_proj.bias', 'h.0.crossattention.c_proj.weight', 'h.7.ln_cross_attn.bias', 'h.10.crossattention.c_attn.weight', 'h.6.crossattention.c_proj.bias', 'h.3.crossattention.c_attn.bias', 'h.0.ln_cross_attn.weight', 'h.5.crossattention.c_proj.weight', 'h.3.crossattention.c_proj.weight', 'h.0.ln_cross_attn.bias', 'h.6.crossattention.q_attn.weight', 'h.5.crossattention.q_attn.bias', 'h.3.crossattention.c_attn.weight', 'h.10.crossattention.c_attn.bias', 'h.9.crossattention.q_attn.bias', 'h.1.crossattention.q_attn.weight', 'h.3.ln_cross_attn.weight', 'h.8.crossattention.c_attn.weight', 'h.2.crossattention.c_proj.weight', 'h.5.crossattention.c_attn.weight', 'h.6.crossattention.q_attn.bias', 'h.7.crossattention.c_attn.bias', 'h.10.crossattention.q_attn.bias', 'h.6.ln_cross_attn.bias', 'h.10.crossattention.c_proj.weight', 'h.4.ln_cross_attn.weight']\n",
      "You should probably TRAIN this model on a down-stream task to be able to use it for predictions and inference.\n"
     ]
    }
   ],
   "source": [
    "encoder = \"cl-tohoku/bert-base-japanese-v3\"\n",
    "decoder = \"gpt2\"\n",
    "\n",
    "model = EncoderDecoderModel.from_encoder_decoder_pretrained(\n",
    "    encoder, decoder, encoder_add_pooling_layer=False\n",
    ")\n",
    "encoder_tokenizer = AutoTokenizer.from_pretrained(encoder, use_fast=True)\n",
    "decoder_tokenizer = AutoTokenizer.from_pretrained(decoder, use_fast=True)"
   ]
  },
  {
   "cell_type": "code",
   "execution_count": 3,
   "metadata": {},
   "outputs": [
    {
     "name": "stdout",
     "output_type": "stream",
     "text": [
      "EncoderDecoderModel(\n",
      "  (encoder): BertModel(\n",
      "    (embeddings): BertEmbeddings(\n",
      "      (word_embeddings): Embedding(32768, 768, padding_idx=0)\n",
      "      (position_embeddings): Embedding(512, 768)\n",
      "      (token_type_embeddings): Embedding(2, 768)\n",
      "      (LayerNorm): LayerNorm((768,), eps=1e-12, elementwise_affine=True)\n",
      "      (dropout): Dropout(p=0.1, inplace=False)\n",
      "    )\n",
      "    (encoder): BertEncoder(\n",
      "      (layer): ModuleList(\n",
      "        (0-11): 12 x BertLayer(\n",
      "          (attention): BertAttention(\n",
      "            (self): BertSelfAttention(\n",
      "              (query): Linear(in_features=768, out_features=768, bias=True)\n",
      "              (key): Linear(in_features=768, out_features=768, bias=True)\n",
      "              (value): Linear(in_features=768, out_features=768, bias=True)\n",
      "              (dropout): Dropout(p=0.1, inplace=False)\n",
      "            )\n",
      "            (output): BertSelfOutput(\n",
      "              (dense): Linear(in_features=768, out_features=768, bias=True)\n",
      "              (LayerNorm): LayerNorm((768,), eps=1e-12, elementwise_affine=True)\n",
      "              (dropout): Dropout(p=0.1, inplace=False)\n",
      "            )\n",
      "          )\n",
      "          (intermediate): BertIntermediate(\n",
      "            (dense): Linear(in_features=768, out_features=3072, bias=True)\n",
      "            (intermediate_act_fn): GELUActivation()\n",
      "          )\n",
      "          (output): BertOutput(\n",
      "            (dense): Linear(in_features=3072, out_features=768, bias=True)\n",
      "            (LayerNorm): LayerNorm((768,), eps=1e-12, elementwise_affine=True)\n",
      "            (dropout): Dropout(p=0.1, inplace=False)\n",
      "          )\n",
      "        )\n",
      "      )\n",
      "    )\n",
      "  )\n",
      "  (decoder): GPT2LMHeadModel(\n",
      "    (transformer): GPT2Model(\n",
      "      (wte): Embedding(50257, 768)\n",
      "      (wpe): Embedding(1024, 768)\n",
      "      (drop): Dropout(p=0.1, inplace=False)\n",
      "      (h): ModuleList(\n",
      "        (0-11): 12 x GPT2Block(\n",
      "          (ln_1): LayerNorm((768,), eps=1e-05, elementwise_affine=True)\n",
      "          (attn): GPT2Attention(\n",
      "            (c_attn): Conv1D()\n",
      "            (c_proj): Conv1D()\n",
      "            (attn_dropout): Dropout(p=0.1, inplace=False)\n",
      "            (resid_dropout): Dropout(p=0.1, inplace=False)\n",
      "          )\n",
      "          (ln_2): LayerNorm((768,), eps=1e-05, elementwise_affine=True)\n",
      "          (crossattention): GPT2Attention(\n",
      "            (c_attn): Conv1D()\n",
      "            (q_attn): Conv1D()\n",
      "            (c_proj): Conv1D()\n",
      "            (attn_dropout): Dropout(p=0.1, inplace=False)\n",
      "            (resid_dropout): Dropout(p=0.1, inplace=False)\n",
      "          )\n",
      "          (ln_cross_attn): LayerNorm((768,), eps=1e-05, elementwise_affine=True)\n",
      "          (mlp): GPT2MLP(\n",
      "            (c_fc): Conv1D()\n",
      "            (c_proj): Conv1D()\n",
      "            (act): NewGELUActivation()\n",
      "            (dropout): Dropout(p=0.1, inplace=False)\n",
      "          )\n",
      "        )\n",
      "      )\n",
      "      (ln_f): LayerNorm((768,), eps=1e-05, elementwise_affine=True)\n",
      "    )\n",
      "    (lm_head): Linear(in_features=768, out_features=50257, bias=False)\n",
      "  )\n",
      ")\n"
     ]
    }
   ],
   "source": [
    "print(model)"
   ]
  },
  {
   "cell_type": "code",
   "execution_count": 4,
   "metadata": {},
   "outputs": [
    {
     "data": {
      "text/plain": [
       "EncoderDecoderConfig {\n",
       "  \"_commit_hash\": null,\n",
       "  \"decoder\": {\n",
       "    \"_name_or_path\": \"gpt2\",\n",
       "    \"activation_function\": \"gelu_new\",\n",
       "    \"add_cross_attention\": true,\n",
       "    \"architectures\": [\n",
       "      \"GPT2LMHeadModel\"\n",
       "    ],\n",
       "    \"attn_pdrop\": 0.1,\n",
       "    \"bad_words_ids\": null,\n",
       "    \"begin_suppress_tokens\": null,\n",
       "    \"bos_token_id\": 50256,\n",
       "    \"chunk_size_feed_forward\": 0,\n",
       "    \"cross_attention_hidden_size\": null,\n",
       "    \"decoder_start_token_id\": null,\n",
       "    \"diversity_penalty\": 0.0,\n",
       "    \"do_sample\": false,\n",
       "    \"early_stopping\": false,\n",
       "    \"embd_pdrop\": 0.1,\n",
       "    \"encoder_no_repeat_ngram_size\": 0,\n",
       "    \"eos_token_id\": 50256,\n",
       "    \"exponential_decay_length_penalty\": null,\n",
       "    \"finetuning_task\": null,\n",
       "    \"forced_bos_token_id\": null,\n",
       "    \"forced_eos_token_id\": null,\n",
       "    \"id2label\": {\n",
       "      \"0\": \"LABEL_0\",\n",
       "      \"1\": \"LABEL_1\"\n",
       "    },\n",
       "    \"initializer_range\": 0.02,\n",
       "    \"is_decoder\": true,\n",
       "    \"is_encoder_decoder\": false,\n",
       "    \"label2id\": {\n",
       "      \"LABEL_0\": 0,\n",
       "      \"LABEL_1\": 1\n",
       "    },\n",
       "    \"layer_norm_epsilon\": 1e-05,\n",
       "    \"length_penalty\": 1.0,\n",
       "    \"max_length\": 20,\n",
       "    \"min_length\": 0,\n",
       "    \"model_type\": \"gpt2\",\n",
       "    \"n_ctx\": 1024,\n",
       "    \"n_embd\": 768,\n",
       "    \"n_head\": 12,\n",
       "    \"n_inner\": null,\n",
       "    \"n_layer\": 12,\n",
       "    \"n_positions\": 1024,\n",
       "    \"no_repeat_ngram_size\": 0,\n",
       "    \"num_beam_groups\": 1,\n",
       "    \"num_beams\": 1,\n",
       "    \"num_return_sequences\": 1,\n",
       "    \"output_attentions\": false,\n",
       "    \"output_hidden_states\": false,\n",
       "    \"output_scores\": false,\n",
       "    \"pad_token_id\": null,\n",
       "    \"prefix\": null,\n",
       "    \"problem_type\": null,\n",
       "    \"pruned_heads\": {},\n",
       "    \"remove_invalid_values\": false,\n",
       "    \"reorder_and_upcast_attn\": false,\n",
       "    \"repetition_penalty\": 1.0,\n",
       "    \"resid_pdrop\": 0.1,\n",
       "    \"return_dict\": true,\n",
       "    \"return_dict_in_generate\": false,\n",
       "    \"scale_attn_by_inverse_layer_idx\": false,\n",
       "    \"scale_attn_weights\": true,\n",
       "    \"sep_token_id\": null,\n",
       "    \"summary_activation\": null,\n",
       "    \"summary_first_dropout\": 0.1,\n",
       "    \"summary_proj_to_labels\": true,\n",
       "    \"summary_type\": \"cls_index\",\n",
       "    \"summary_use_proj\": true,\n",
       "    \"suppress_tokens\": null,\n",
       "    \"task_specific_params\": {\n",
       "      \"text-generation\": {\n",
       "        \"do_sample\": true,\n",
       "        \"max_length\": 50\n",
       "      }\n",
       "    },\n",
       "    \"temperature\": 1.0,\n",
       "    \"tf_legacy_loss\": false,\n",
       "    \"tie_encoder_decoder\": false,\n",
       "    \"tie_word_embeddings\": true,\n",
       "    \"tokenizer_class\": null,\n",
       "    \"top_k\": 50,\n",
       "    \"top_p\": 1.0,\n",
       "    \"torch_dtype\": null,\n",
       "    \"torchscript\": false,\n",
       "    \"transformers_version\": \"4.31.0\",\n",
       "    \"typical_p\": 1.0,\n",
       "    \"use_bfloat16\": false,\n",
       "    \"use_cache\": true,\n",
       "    \"vocab_size\": 50257\n",
       "  },\n",
       "  \"encoder\": {\n",
       "    \"_name_or_path\": \"cl-tohoku/bert-base-japanese-v3\",\n",
       "    \"add_cross_attention\": false,\n",
       "    \"architectures\": [\n",
       "      \"BertForPreTraining\"\n",
       "    ],\n",
       "    \"attention_probs_dropout_prob\": 0.1,\n",
       "    \"bad_words_ids\": null,\n",
       "    \"begin_suppress_tokens\": null,\n",
       "    \"bos_token_id\": null,\n",
       "    \"chunk_size_feed_forward\": 0,\n",
       "    \"classifier_dropout\": null,\n",
       "    \"cross_attention_hidden_size\": null,\n",
       "    \"decoder_start_token_id\": null,\n",
       "    \"diversity_penalty\": 0.0,\n",
       "    \"do_sample\": false,\n",
       "    \"early_stopping\": false,\n",
       "    \"encoder_no_repeat_ngram_size\": 0,\n",
       "    \"eos_token_id\": null,\n",
       "    \"exponential_decay_length_penalty\": null,\n",
       "    \"finetuning_task\": null,\n",
       "    \"forced_bos_token_id\": null,\n",
       "    \"forced_eos_token_id\": null,\n",
       "    \"hidden_act\": \"gelu\",\n",
       "    \"hidden_dropout_prob\": 0.1,\n",
       "    \"hidden_size\": 768,\n",
       "    \"id2label\": {\n",
       "      \"0\": \"LABEL_0\",\n",
       "      \"1\": \"LABEL_1\"\n",
       "    },\n",
       "    \"initializer_range\": 0.02,\n",
       "    \"intermediate_size\": 3072,\n",
       "    \"is_decoder\": false,\n",
       "    \"is_encoder_decoder\": false,\n",
       "    \"label2id\": {\n",
       "      \"LABEL_0\": 0,\n",
       "      \"LABEL_1\": 1\n",
       "    },\n",
       "    \"layer_norm_eps\": 1e-12,\n",
       "    \"length_penalty\": 1.0,\n",
       "    \"max_length\": 20,\n",
       "    \"max_position_embeddings\": 512,\n",
       "    \"min_length\": 0,\n",
       "    \"model_type\": \"bert\",\n",
       "    \"no_repeat_ngram_size\": 0,\n",
       "    \"num_attention_heads\": 12,\n",
       "    \"num_beam_groups\": 1,\n",
       "    \"num_beams\": 1,\n",
       "    \"num_hidden_layers\": 12,\n",
       "    \"num_return_sequences\": 1,\n",
       "    \"output_attentions\": false,\n",
       "    \"output_hidden_states\": false,\n",
       "    \"output_scores\": false,\n",
       "    \"pad_token_id\": 0,\n",
       "    \"position_embedding_type\": \"absolute\",\n",
       "    \"prefix\": null,\n",
       "    \"problem_type\": null,\n",
       "    \"pruned_heads\": {},\n",
       "    \"remove_invalid_values\": false,\n",
       "    \"repetition_penalty\": 1.0,\n",
       "    \"return_dict\": true,\n",
       "    \"return_dict_in_generate\": false,\n",
       "    \"sep_token_id\": null,\n",
       "    \"suppress_tokens\": null,\n",
       "    \"task_specific_params\": null,\n",
       "    \"temperature\": 1.0,\n",
       "    \"tf_legacy_loss\": false,\n",
       "    \"tie_encoder_decoder\": false,\n",
       "    \"tie_word_embeddings\": true,\n",
       "    \"tokenizer_class\": null,\n",
       "    \"top_k\": 50,\n",
       "    \"top_p\": 1.0,\n",
       "    \"torch_dtype\": null,\n",
       "    \"torchscript\": false,\n",
       "    \"transformers_version\": \"4.31.0\",\n",
       "    \"type_vocab_size\": 2,\n",
       "    \"typical_p\": 1.0,\n",
       "    \"use_bfloat16\": false,\n",
       "    \"use_cache\": true,\n",
       "    \"vocab_size\": 32768\n",
       "  },\n",
       "  \"is_encoder_decoder\": true,\n",
       "  \"model_type\": \"encoder-decoder\",\n",
       "  \"transformers_version\": null\n",
       "}"
      ]
     },
     "execution_count": 4,
     "metadata": {},
     "output_type": "execute_result"
    }
   ],
   "source": [
    "model.config"
   ]
  },
  {
   "cell_type": "code",
   "execution_count": 5,
   "metadata": {},
   "outputs": [
    {
     "name": "stdout",
     "output_type": "stream",
     "text": [
      "Number of parameters: 263423232\n",
      "Number of cross-attention parameters: 28366848\n"
     ]
    }
   ],
   "source": [
    "def print_model_parameters():\n",
    "    print(f\"Number of parameters: {sum(p.numel() for p in model.parameters())}\")\n",
    "\n",
    "    c_attn_pars = 0\n",
    "    for layer in model.decoder.transformer.h:\n",
    "        c_attn_pars += sum(p.numel() for p in layer.crossattention.parameters())\n",
    "        c_attn_pars += sum(p.numel() for p in layer.ln_cross_attn.parameters())\n",
    "\n",
    "    print(f\"Number of cross-attention parameters: {c_attn_pars}\")\n",
    "\n",
    "\n",
    "print_model_parameters()"
   ]
  },
  {
   "cell_type": "code",
   "execution_count": 6,
   "metadata": {},
   "outputs": [
    {
     "name": "stdout",
     "output_type": "stream",
     "text": [
      "model size: 1028.9MB\n"
     ]
    }
   ],
   "source": [
    "def print_model_size():\n",
    "    param_size = 0\n",
    "    for param in model.parameters():\n",
    "        param_size += param.nelement() * param.element_size()\n",
    "    buffer_size = 0\n",
    "    for buffer in model.buffers():\n",
    "        buffer_size += buffer.nelement() * buffer.element_size()\n",
    "\n",
    "    size_all_mb = (param_size + buffer_size) / 1024**2\n",
    "    print(\"model size: {:.1f}MB\".format(size_all_mb))\n",
    "\n",
    "\n",
    "print_model_size()"
   ]
  },
  {
   "cell_type": "code",
   "execution_count": 7,
   "metadata": {},
   "outputs": [],
   "source": [
    "gen_config = GenerationConfig()\n",
    "\n",
    "\n",
    "def set_decoder_configuration(gen_config):\n",
    "    gen_config.no_repeat_ngram_size = 3\n",
    "    gen_config.num_beams = 4\n",
    "    gen_config.length_penalty = 2.0\n",
    "    gen_config.num_beams = 4\n",
    "    gen_config.max_new_tokens = 128\n",
    "    return gen_config\n",
    "\n",
    "\n",
    "gen_config = set_decoder_configuration(gen_config)"
   ]
  },
  {
   "cell_type": "code",
   "execution_count": 8,
   "metadata": {},
   "outputs": [],
   "source": [
    "dataset = load_dataset(\"csv\", data_files=r\"./data-post/snow_simplified.csv\")\n",
    "data_sample = dataset[\"train\"]\n",
    "data_sample = data_sample.select(range(4))"
   ]
  },
  {
   "cell_type": "code",
   "execution_count": 9,
   "metadata": {},
   "outputs": [
    {
     "data": {
      "text/plain": [
       "Dataset({\n",
       "    features: ['ID', 'original_ja', 'simplified_ja', 'original_en'],\n",
       "    num_rows: 4\n",
       "})"
      ]
     },
     "execution_count": 9,
     "metadata": {},
     "output_type": "execute_result"
    }
   ],
   "source": [
    "data_sample"
   ]
  },
  {
   "cell_type": "code",
   "execution_count": 10,
   "metadata": {},
   "outputs": [
    {
     "data": {
      "text/plain": [
       "MemoryMappedTable\n",
       "ID: string\n",
       "original_ja: string\n",
       "simplified_ja: string\n",
       "original_en: string\n",
       "----\n",
       "ID: [[\"1\",\"2\",\"3\",\"4\"]]\n",
       "original_ja: [[\"誰が一番に着くか私には分かりません。\",\"多くの動物が人間によって滅ぼされた。\",\"私はテニス部員です。\",\"エミは幸せそうに見えます。\"]]\n",
       "simplified_ja: [[\"誰が一番に着くか私には分かりません。\",\"多くの動物が人間によって殺された。\",\"私はテニス部員です。\",\"エミは幸せそうに見えます。\"]]\n",
       "original_en: [[\"i can 't tell who will arrive first .\",\"many animals have been destroyed by men .\",\"i 'm in the tennis club .\",\"emi looks happy .\"]]"
      ]
     },
     "execution_count": 10,
     "metadata": {},
     "output_type": "execute_result"
    }
   ],
   "source": [
    "data_sample.data"
   ]
  },
  {
   "cell_type": "code",
   "execution_count": 12,
   "metadata": {},
   "outputs": [],
   "source": [
    "inputs = encoder_tokenizer(\n",
    "    data_sample[\"original_ja\"],\n",
    "    padding=\"max_length\",\n",
    "    max_length=512,\n",
    "    truncation=True,\n",
    "    return_tensors=\"pt\",\n",
    ")"
   ]
  },
  {
   "cell_type": "code",
   "execution_count": 14,
   "metadata": {},
   "outputs": [
    {
     "data": {
      "text/plain": [
       "<torch.utils.hooks.RemovableHandle at 0x7f48b67d1e10>"
      ]
     },
     "execution_count": 14,
     "metadata": {},
     "output_type": "execute_result"
    }
   ],
   "source": [
    "test_output = None\n",
    "\n",
    "\n",
    "def test_hook(module, input_, output):\n",
    "    global test_output\n",
    "    test_output = output\n",
    "\n",
    "\n",
    "model.decoder.transformer.h[0].crossattention.register_forward_hook(test_hook)"
   ]
  },
  {
   "cell_type": "code",
   "execution_count": 15,
   "metadata": {},
   "outputs": [],
   "source": [
    "output = model.generate(\n",
    "    inputs[\"input_ids\"],\n",
    "    attention_mask=inputs[\"attention_mask\"],\n",
    "    generation_config=gen_config,\n",
    ")"
   ]
  },
  {
   "cell_type": "code",
   "execution_count": 19,
   "metadata": {},
   "outputs": [],
   "source": [
    "clean_output = decoder_tokenizer.batch_decode(output, skip_special_tokens=True)"
   ]
  },
  {
   "cell_type": "code",
   "execution_count": 20,
   "metadata": {},
   "outputs": [
    {
     "data": {
      "text/plain": [
       "['\"I\\'m not going to lie to you,\" he said. \"I\\'m going to tell you what I know. I\\'m not gonna lie to anybody.\"\\n\\n\"I don\\'t know what you\\'re talking about,\" he added. \"You\\'re going to have to tell me what you know. You know what I\\'m talking about. I know what\\'s going to happen. I don\\'t care what you think. I just want you to know that I\\'m here to help you. I want to make sure that you\\'re safe and that you don\\'t have to go through this again. I\\'ve got a lot of work to',\n",
       " '\"I\\'m not going to lie to you,\" he said. \"I\\'m just going to tell you what I think. I\\'m going to be honest with you.\"\\n\\n\"I don\\'t know what you\\'re talking about,\" she said.\\n\\nHe shook his head. \"You know what I\\'m talking about?\"\\n\\nShe shook her head again. \"No, I don\\'t think so. I think you\\'re going to have to do something about it. You know what? I\\'m not saying that you can\\'t do it, but I\\'m saying that it\\'s going to take a lot of work to get it',\n",
       " '\"I don\\'t know if I\\'m going to be able to do it,\" he said. \"I\\'m not sure if I can do it. I don\\'t think I can.\"\\n\\nHe added: \"I think it\\'s going to take a little bit of time. I think it will take a lot of time for me to get to the point where I can get to where I want to be.\\n\\n\"I think I\\'ve got a lot to learn. I\\'m just trying to learn as much as I can. It\\'s just a matter of getting better at what I do. I just want to get better at',\n",
       " '\"I don\\'t know what to say to that,\" he said. \"I\\'m not going to tell you what to do. I don\\'t want you to know what I\\'m going to do.\"\\n\\nHe said he\\'s not sure if he\\'ll be able to get back on track.\\n\\n\"I think I\\'ll be fine. I\\'m just going to keep doing what I\\'ve been doing for the last couple of years,\" he added. \"It\\'s just a matter of time before I can get back to where I was. I just want to be back where I am. I want to do what I have to do']"
      ]
     },
     "execution_count": 20,
     "metadata": {},
     "output_type": "execute_result"
    }
   ],
   "source": [
    "clean_output"
   ]
  }
 ],
 "metadata": {
  "kernelspec": {
   "display_name": "NLP",
   "language": "python",
   "name": "python3"
  },
  "language_info": {
   "codemirror_mode": {
    "name": "ipython",
    "version": 3
   },
   "file_extension": ".py",
   "mimetype": "text/x-python",
   "name": "python",
   "nbconvert_exporter": "python",
   "pygments_lexer": "ipython3",
   "version": "3.11.4"
  },
  "orig_nbformat": 4
 },
 "nbformat": 4,
 "nbformat_minor": 2
}
