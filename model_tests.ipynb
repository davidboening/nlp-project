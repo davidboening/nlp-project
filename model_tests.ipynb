{
 "cells": [
  {
   "cell_type": "code",
   "execution_count": 1,
   "metadata": {},
   "outputs": [],
   "source": [
    "import os\n",
    "\n",
    "os.environ[\"HF_HOME\"] = r\"./.cache\"\n",
    "from transformers import EncoderDecoderModel, AutoTokenizer, GenerationConfig, Seq2SeqTrainer, Seq2SeqTrainingArguments\n",
    "from datasets import load_dataset\n",
    "from tokenizers import processors\n"
   ]
  },
  {
   "cell_type": "markdown",
   "metadata": {},
   "source": [
    "- Encoders\n",
    "    - BERT_JA : `cl-tohoku/bert-base-japanese-v3`\n",
    "    - BERT_EN : `bert-base-uncased`, `prajjwal1/bert-tiny`\n",
    "- Decorders\n",
    "    - GPT_JA : `rinna/japanese-gpt2-xsmall`\n",
    "    - GPT_EN : `gpt2`"
   ]
  },
  {
   "cell_type": "code",
   "execution_count": 2,
   "metadata": {},
   "outputs": [
    {
     "name": "stderr",
     "output_type": "stream",
     "text": [
      "Some weights of GPT2LMHeadModel were not initialized from the model checkpoint at gpt2 and are newly initialized: ['h.7.crossattention.q_attn.bias', 'h.2.crossattention.q_attn.bias', 'h.7.crossattention.c_attn.weight', 'h.1.ln_cross_attn.bias', 'h.0.crossattention.q_attn.bias', 'h.4.crossattention.c_attn.bias', 'h.10.crossattention.c_proj.weight', 'h.0.crossattention.c_attn.weight', 'h.6.ln_cross_attn.weight', 'h.5.crossattention.q_attn.bias', 'h.9.crossattention.c_attn.weight', 'h.3.crossattention.q_attn.weight', 'h.2.ln_cross_attn.weight', 'h.5.ln_cross_attn.weight', 'h.8.crossattention.c_attn.bias', 'h.5.ln_cross_attn.bias', 'h.0.ln_cross_attn.bias', 'h.8.crossattention.q_attn.bias', 'h.3.crossattention.q_attn.bias', 'h.7.crossattention.c_attn.bias', 'h.0.crossattention.c_proj.weight', 'h.8.crossattention.c_proj.weight', 'h.6.crossattention.q_attn.bias', 'h.6.crossattention.c_attn.bias', 'h.0.crossattention.c_proj.bias', 'h.11.crossattention.c_proj.weight', 'h.6.crossattention.q_attn.weight', 'h.4.ln_cross_attn.weight', 'h.4.crossattention.q_attn.weight', 'h.1.ln_cross_attn.weight', 'h.3.crossattention.c_attn.bias', 'h.11.ln_cross_attn.bias', 'h.3.crossattention.c_proj.bias', 'h.4.crossattention.c_proj.weight', 'h.8.crossattention.c_proj.bias', 'h.3.crossattention.c_proj.weight', 'h.4.crossattention.q_attn.bias', 'h.2.crossattention.c_proj.bias', 'h.10.crossattention.q_attn.weight', 'h.5.crossattention.c_attn.weight', 'h.2.crossattention.c_attn.bias', 'h.10.crossattention.q_attn.bias', 'h.6.crossattention.c_attn.weight', 'h.2.crossattention.c_proj.weight', 'h.11.crossattention.q_attn.bias', 'h.9.crossattention.q_attn.weight', 'h.8.ln_cross_attn.bias', 'h.6.ln_cross_attn.bias', 'h.10.ln_cross_attn.bias', 'h.1.crossattention.c_attn.weight', 'h.3.crossattention.c_attn.weight', 'h.4.crossattention.c_proj.bias', 'h.10.crossattention.c_proj.bias', 'h.4.ln_cross_attn.bias', 'h.11.crossattention.q_attn.weight', 'h.6.crossattention.c_proj.weight', 'h.9.crossattention.c_proj.weight', 'h.7.crossattention.c_proj.weight', 'h.7.crossattention.q_attn.weight', 'h.9.crossattention.c_proj.bias', 'h.0.crossattention.c_attn.bias', 'h.5.crossattention.q_attn.weight', 'h.8.crossattention.q_attn.weight', 'h.1.crossattention.c_attn.bias', 'h.8.crossattention.c_attn.weight', 'h.0.crossattention.q_attn.weight', 'h.11.ln_cross_attn.weight', 'h.1.crossattention.q_attn.weight', 'h.1.crossattention.c_proj.bias', 'h.5.crossattention.c_proj.weight', 'h.0.ln_cross_attn.weight', 'h.11.crossattention.c_attn.bias', 'h.2.crossattention.q_attn.weight', 'h.5.crossattention.c_proj.bias', 'h.2.crossattention.c_attn.weight', 'h.6.crossattention.c_proj.bias', 'h.11.crossattention.c_proj.bias', 'h.10.crossattention.c_attn.bias', 'h.9.ln_cross_attn.weight', 'h.1.crossattention.q_attn.bias', 'h.11.crossattention.c_attn.weight', 'h.8.ln_cross_attn.weight', 'h.9.crossattention.c_attn.bias', 'h.10.ln_cross_attn.weight', 'h.1.crossattention.c_proj.weight', 'h.3.ln_cross_attn.weight', 'h.3.ln_cross_attn.bias', 'h.2.ln_cross_attn.bias', 'h.7.crossattention.c_proj.bias', 'h.4.crossattention.c_attn.weight', 'h.9.crossattention.q_attn.bias', 'h.7.ln_cross_attn.weight', 'h.5.crossattention.c_attn.bias', 'h.9.ln_cross_attn.bias', 'h.7.ln_cross_attn.bias', 'h.10.crossattention.c_attn.weight']\n",
      "You should probably TRAIN this model on a down-stream task to be able to use it for predictions and inference.\n"
     ]
    }
   ],
   "source": [
    "source_lng = \"ja\"\n",
    "\n",
    "if source_lng == \"en\":\n",
    "    target_lng = \"ja\"\n",
    "    encoder = \"bert-base-uncased\"\n",
    "    decoder = \"rinna/japanese-gpt2-small\"\n",
    "else: \n",
    "    target_lng = \"en\"\n",
    "    encoder = \"cl-tohoku/bert-base-japanese-v3\"\n",
    "    decoder = \"gpt2\"\n",
    "\n",
    "model = EncoderDecoderModel.from_encoder_decoder_pretrained(\n",
    "    encoder, decoder, encoder_add_pooling_layer=False\n",
    ")\n",
    "model.cuda()\n",
    "\n",
    "encoder_tokenizer = AutoTokenizer.from_pretrained(encoder, use_fast=True)\n",
    "decoder_tokenizer = AutoTokenizer.from_pretrained(decoder, use_fast=True)\n",
    "if decoder_tokenizer.pad_token_id is None:\n",
    "    decoder_tokenizer.pad_token_id = decoder_tokenizer.eos_token_id"
   ]
  },
  {
   "cell_type": "code",
   "execution_count": 3,
   "metadata": {},
   "outputs": [
    {
     "name": "stdout",
     "output_type": "stream",
     "text": [
      "EncoderDecoderModel(\n",
      "  (encoder): BertModel(\n",
      "    (embeddings): BertEmbeddings(\n",
      "      (word_embeddings): Embedding(32768, 768, padding_idx=0)\n",
      "      (position_embeddings): Embedding(512, 768)\n",
      "      (token_type_embeddings): Embedding(2, 768)\n",
      "      (LayerNorm): LayerNorm((768,), eps=1e-12, elementwise_affine=True)\n",
      "      (dropout): Dropout(p=0.1, inplace=False)\n",
      "    )\n",
      "    (encoder): BertEncoder(\n",
      "      (layer): ModuleList(\n",
      "        (0-11): 12 x BertLayer(\n",
      "          (attention): BertAttention(\n",
      "            (self): BertSelfAttention(\n",
      "              (query): Linear(in_features=768, out_features=768, bias=True)\n",
      "              (key): Linear(in_features=768, out_features=768, bias=True)\n",
      "              (value): Linear(in_features=768, out_features=768, bias=True)\n",
      "              (dropout): Dropout(p=0.1, inplace=False)\n",
      "            )\n",
      "            (output): BertSelfOutput(\n",
      "              (dense): Linear(in_features=768, out_features=768, bias=True)\n",
      "              (LayerNorm): LayerNorm((768,), eps=1e-12, elementwise_affine=True)\n",
      "              (dropout): Dropout(p=0.1, inplace=False)\n",
      "            )\n",
      "          )\n",
      "          (intermediate): BertIntermediate(\n",
      "            (dense): Linear(in_features=768, out_features=3072, bias=True)\n",
      "            (intermediate_act_fn): GELUActivation()\n",
      "          )\n",
      "          (output): BertOutput(\n",
      "            (dense): Linear(in_features=3072, out_features=768, bias=True)\n",
      "            (LayerNorm): LayerNorm((768,), eps=1e-12, elementwise_affine=True)\n",
      "            (dropout): Dropout(p=0.1, inplace=False)\n",
      "          )\n",
      "        )\n",
      "      )\n",
      "    )\n",
      "  )\n",
      "  (decoder): GPT2LMHeadModel(\n",
      "    (transformer): GPT2Model(\n",
      "      (wte): Embedding(50257, 768)\n",
      "      (wpe): Embedding(1024, 768)\n",
      "      (drop): Dropout(p=0.1, inplace=False)\n",
      "      (h): ModuleList(\n",
      "        (0-11): 12 x GPT2Block(\n",
      "          (ln_1): LayerNorm((768,), eps=1e-05, elementwise_affine=True)\n",
      "          (attn): GPT2Attention(\n",
      "            (c_attn): Conv1D()\n",
      "            (c_proj): Conv1D()\n",
      "            (attn_dropout): Dropout(p=0.1, inplace=False)\n",
      "            (resid_dropout): Dropout(p=0.1, inplace=False)\n",
      "          )\n",
      "          (ln_2): LayerNorm((768,), eps=1e-05, elementwise_affine=True)\n",
      "          (crossattention): GPT2Attention(\n",
      "            (c_attn): Conv1D()\n",
      "            (q_attn): Conv1D()\n",
      "            (c_proj): Conv1D()\n",
      "            (attn_dropout): Dropout(p=0.1, inplace=False)\n",
      "            (resid_dropout): Dropout(p=0.1, inplace=False)\n",
      "          )\n",
      "          (ln_cross_attn): LayerNorm((768,), eps=1e-05, elementwise_affine=True)\n",
      "          (mlp): GPT2MLP(\n",
      "            (c_fc): Conv1D()\n",
      "            (c_proj): Conv1D()\n",
      "            (act): NewGELUActivation()\n",
      "            (dropout): Dropout(p=0.1, inplace=False)\n",
      "          )\n",
      "        )\n",
      "      )\n",
      "      (ln_f): LayerNorm((768,), eps=1e-05, elementwise_affine=True)\n",
      "    )\n",
      "    (lm_head): Linear(in_features=768, out_features=50257, bias=False)\n",
      "  )\n",
      ")\n"
     ]
    }
   ],
   "source": [
    "print(model)"
   ]
  },
  {
   "cell_type": "code",
   "execution_count": 4,
   "metadata": {},
   "outputs": [
    {
     "name": "stdout",
     "output_type": "stream",
     "text": [
      "EncoderDecoderConfig {\n",
      "  \"_commit_hash\": null,\n",
      "  \"decoder\": {\n",
      "    \"_name_or_path\": \"gpt2\",\n",
      "    \"activation_function\": \"gelu_new\",\n",
      "    \"add_cross_attention\": true,\n",
      "    \"architectures\": [\n",
      "      \"GPT2LMHeadModel\"\n",
      "    ],\n",
      "    \"attn_pdrop\": 0.1,\n",
      "    \"bad_words_ids\": null,\n",
      "    \"begin_suppress_tokens\": null,\n",
      "    \"bos_token_id\": 50256,\n",
      "    \"chunk_size_feed_forward\": 0,\n",
      "    \"cross_attention_hidden_size\": null,\n",
      "    \"decoder_start_token_id\": null,\n",
      "    \"diversity_penalty\": 0.0,\n",
      "    \"do_sample\": false,\n",
      "    \"early_stopping\": false,\n",
      "    \"embd_pdrop\": 0.1,\n",
      "    \"encoder_no_repeat_ngram_size\": 0,\n",
      "    \"eos_token_id\": 50256,\n",
      "    \"exponential_decay_length_penalty\": null,\n",
      "    \"finetuning_task\": null,\n",
      "    \"forced_bos_token_id\": null,\n",
      "    \"forced_eos_token_id\": null,\n",
      "    \"id2label\": {\n",
      "      \"0\": \"LABEL_0\",\n",
      "      \"1\": \"LABEL_1\"\n",
      "    },\n",
      "    \"initializer_range\": 0.02,\n",
      "    \"is_decoder\": true,\n",
      "    \"is_encoder_decoder\": false,\n",
      "    \"label2id\": {\n",
      "      \"LABEL_0\": 0,\n",
      "      \"LABEL_1\": 1\n",
      "    },\n",
      "    \"layer_norm_epsilon\": 1e-05,\n",
      "    \"length_penalty\": 1.0,\n",
      "    \"max_length\": 20,\n",
      "    \"min_length\": 0,\n",
      "    \"model_type\": \"gpt2\",\n",
      "    \"n_ctx\": 1024,\n",
      "    \"n_embd\": 768,\n",
      "    \"n_head\": 12,\n",
      "    \"n_inner\": null,\n",
      "    \"n_layer\": 12,\n",
      "    \"n_positions\": 1024,\n",
      "    \"no_repeat_ngram_size\": 0,\n",
      "    \"num_beam_groups\": 1,\n",
      "    \"num_beams\": 1,\n",
      "    \"num_return_sequences\": 1,\n",
      "    \"output_attentions\": false,\n",
      "    \"output_hidden_states\": false,\n",
      "    \"output_scores\": false,\n",
      "    \"pad_token_id\": null,\n",
      "    \"prefix\": null,\n",
      "    \"problem_type\": null,\n",
      "    \"pruned_heads\": {},\n",
      "    \"remove_invalid_values\": false,\n",
      "    \"reorder_and_upcast_attn\": false,\n",
      "    \"repetition_penalty\": 1.0,\n",
      "    \"resid_pdrop\": 0.1,\n",
      "    \"return_dict\": true,\n",
      "    \"return_dict_in_generate\": false,\n",
      "    \"scale_attn_by_inverse_layer_idx\": false,\n",
      "    \"scale_attn_weights\": true,\n",
      "    \"sep_token_id\": null,\n",
      "    \"summary_activation\": null,\n",
      "    \"summary_first_dropout\": 0.1,\n",
      "    \"summary_proj_to_labels\": true,\n",
      "    \"summary_type\": \"cls_index\",\n",
      "    \"summary_use_proj\": true,\n",
      "    \"suppress_tokens\": null,\n",
      "    \"task_specific_params\": {\n",
      "      \"text-generation\": {\n",
      "        \"do_sample\": true,\n",
      "        \"max_length\": 50\n",
      "      }\n",
      "    },\n",
      "    \"temperature\": 1.0,\n",
      "    \"tf_legacy_loss\": false,\n",
      "    \"tie_encoder_decoder\": false,\n",
      "    \"tie_word_embeddings\": true,\n",
      "    \"tokenizer_class\": null,\n",
      "    \"top_k\": 50,\n",
      "    \"top_p\": 1.0,\n",
      "    \"torch_dtype\": null,\n",
      "    \"torchscript\": false,\n",
      "    \"transformers_version\": \"4.31.0\",\n",
      "    \"typical_p\": 1.0,\n",
      "    \"use_bfloat16\": false,\n",
      "    \"use_cache\": true,\n",
      "    \"vocab_size\": 50257\n",
      "  },\n",
      "  \"decoder_start_token_id\": 50256,\n",
      "  \"encoder\": {\n",
      "    \"_name_or_path\": \"cl-tohoku/bert-base-japanese-v3\",\n",
      "    \"add_cross_attention\": false,\n",
      "    \"architectures\": [\n",
      "      \"BertForPreTraining\"\n",
      "    ],\n",
      "    \"attention_probs_dropout_prob\": 0.1,\n",
      "    \"bad_words_ids\": null,\n",
      "    \"begin_suppress_tokens\": null,\n",
      "    \"bos_token_id\": null,\n",
      "    \"chunk_size_feed_forward\": 0,\n",
      "    \"classifier_dropout\": null,\n",
      "    \"cross_attention_hidden_size\": null,\n",
      "    \"decoder_start_token_id\": null,\n",
      "    \"diversity_penalty\": 0.0,\n",
      "    \"do_sample\": false,\n",
      "    \"early_stopping\": false,\n",
      "    \"encoder_no_repeat_ngram_size\": 0,\n",
      "    \"eos_token_id\": null,\n",
      "    \"exponential_decay_length_penalty\": null,\n",
      "    \"finetuning_task\": null,\n",
      "    \"forced_bos_token_id\": null,\n",
      "    \"forced_eos_token_id\": null,\n",
      "    \"hidden_act\": \"gelu\",\n",
      "    \"hidden_dropout_prob\": 0.1,\n",
      "    \"hidden_size\": 768,\n",
      "    \"id2label\": {\n",
      "      \"0\": \"LABEL_0\",\n",
      "      \"1\": \"LABEL_1\"\n",
      "    },\n",
      "    \"initializer_range\": 0.02,\n",
      "    \"intermediate_size\": 3072,\n",
      "    \"is_decoder\": false,\n",
      "    \"is_encoder_decoder\": false,\n",
      "    \"label2id\": {\n",
      "      \"LABEL_0\": 0,\n",
      "      \"LABEL_1\": 1\n",
      "    },\n",
      "    \"layer_norm_eps\": 1e-12,\n",
      "    \"length_penalty\": 1.0,\n",
      "    \"max_length\": 20,\n",
      "    \"max_position_embeddings\": 512,\n",
      "    \"min_length\": 0,\n",
      "    \"model_type\": \"bert\",\n",
      "    \"no_repeat_ngram_size\": 0,\n",
      "    \"num_attention_heads\": 12,\n",
      "    \"num_beam_groups\": 1,\n",
      "    \"num_beams\": 1,\n",
      "    \"num_hidden_layers\": 12,\n",
      "    \"num_return_sequences\": 1,\n",
      "    \"output_attentions\": false,\n",
      "    \"output_hidden_states\": false,\n",
      "    \"output_scores\": false,\n",
      "    \"pad_token_id\": 0,\n",
      "    \"position_embedding_type\": \"absolute\",\n",
      "    \"prefix\": null,\n",
      "    \"problem_type\": null,\n",
      "    \"pruned_heads\": {},\n",
      "    \"remove_invalid_values\": false,\n",
      "    \"repetition_penalty\": 1.0,\n",
      "    \"return_dict\": true,\n",
      "    \"return_dict_in_generate\": false,\n",
      "    \"sep_token_id\": null,\n",
      "    \"suppress_tokens\": null,\n",
      "    \"task_specific_params\": null,\n",
      "    \"temperature\": 1.0,\n",
      "    \"tf_legacy_loss\": false,\n",
      "    \"tie_encoder_decoder\": false,\n",
      "    \"tie_word_embeddings\": true,\n",
      "    \"tokenizer_class\": null,\n",
      "    \"top_k\": 50,\n",
      "    \"top_p\": 1.0,\n",
      "    \"torch_dtype\": null,\n",
      "    \"torchscript\": false,\n",
      "    \"transformers_version\": \"4.31.0\",\n",
      "    \"type_vocab_size\": 2,\n",
      "    \"typical_p\": 1.0,\n",
      "    \"use_bfloat16\": false,\n",
      "    \"use_cache\": true,\n",
      "    \"vocab_size\": 32768\n",
      "  },\n",
      "  \"eos_token_id\": 50256,\n",
      "  \"is_encoder_decoder\": true,\n",
      "  \"model_type\": \"encoder-decoder\",\n",
      "  \"pad_token_id\": 50256,\n",
      "  \"transformers_version\": null\n",
      "}\n",
      "\n"
     ]
    }
   ],
   "source": [
    "model.config.decoder_start_token_id = decoder_tokenizer.bos_token_id\n",
    "model.config.eos_token_id = decoder_tokenizer.eos_token_id\n",
    "model.config.pad_token_id = decoder_tokenizer.eos_token_id\n",
    "print(model.config)"
   ]
  },
  {
   "cell_type": "code",
   "execution_count": 5,
   "metadata": {},
   "outputs": [
    {
     "name": "stdout",
     "output_type": "stream",
     "text": [
      "Number of parameters: 263423232\n",
      "Number of cross-attention parameters: 28366848\n"
     ]
    }
   ],
   "source": [
    "def print_model_parameters():\n",
    "    print(f\"Number of parameters: {sum(p.numel() for p in model.parameters())}\")\n",
    "\n",
    "    c_attn_pars = 0\n",
    "    for layer in model.decoder.transformer.h:\n",
    "        c_attn_pars += sum(p.numel() for p in layer.crossattention.parameters())\n",
    "        c_attn_pars += sum(p.numel() for p in layer.ln_cross_attn.parameters())\n",
    "\n",
    "    print(f\"Number of cross-attention parameters: {c_attn_pars}\")\n",
    "\n",
    "\n",
    "print_model_parameters()"
   ]
  },
  {
   "cell_type": "code",
   "execution_count": 6,
   "metadata": {},
   "outputs": [
    {
     "name": "stdout",
     "output_type": "stream",
     "text": [
      "model size: 1028.9MB\n"
     ]
    }
   ],
   "source": [
    "def print_model_size():\n",
    "    param_size = 0\n",
    "    for param in model.parameters():\n",
    "        param_size += param.nelement() * param.element_size()\n",
    "    buffer_size = 0\n",
    "    for buffer in model.buffers():\n",
    "        buffer_size += buffer.nelement() * buffer.element_size()\n",
    "\n",
    "    size_all_mb = (param_size + buffer_size) / 1024**2\n",
    "    print(\"model size: {:.1f}MB\".format(size_all_mb))\n",
    "\n",
    "\n",
    "print_model_size()"
   ]
  },
  {
   "cell_type": "code",
   "execution_count": 7,
   "metadata": {},
   "outputs": [],
   "source": [
    "dataset = load_dataset(\"csv\", data_files=r\"./data-csv/snow_simplified.csv\")\n",
    "data_sample = dataset[\"train\"]\n",
    "train_sample = data_sample.select(range(128))\n",
    "val_sample = data_sample.select(range(128, 160))"
   ]
  },
  {
   "cell_type": "code",
   "execution_count": 8,
   "metadata": {},
   "outputs": [],
   "source": [
    "decoder_tokenizer._tokenizer.post_processor = processors.TemplateProcessing(\n",
    "    single=\"$A \" + decoder_tokenizer.eos_token,\n",
    "    special_tokens=[(decoder_tokenizer.eos_token, decoder_tokenizer.eos_token_id)],\n",
    ")"
   ]
  },
  {
   "cell_type": "code",
   "execution_count": 9,
   "metadata": {},
   "outputs": [],
   "source": [
    "def preprocess_data(batch):\n",
    "    inputs = encoder_tokenizer(\n",
    "    batch[f\"{source_lng}_sentence\"],\n",
    "    padding=\"max_length\",\n",
    "    max_length=128,\n",
    "    truncation=True,\n",
    "    return_tensors=\"pt\",\n",
    "    )\n",
    "\n",
    "    labels = decoder_tokenizer(\n",
    "        batch[f\"{target_lng}_sentence\"],\n",
    "        padding=\"max_length\",\n",
    "        max_length=128,\n",
    "        truncation=True,\n",
    "        return_tensors=\"pt\",\n",
    "    )\n",
    "\n",
    "    batch[\"input_ids\"] = inputs.input_ids\n",
    "    batch[\"attention_mask\"] = inputs.attention_mask\n",
    "    batch[\"labels\"] = labels.input_ids\n",
    "    batch[\"labels\"][labels[\"attention_mask\"]==0] = -100\n",
    "    return batch"
   ]
  },
  {
   "cell_type": "code",
   "execution_count": 10,
   "metadata": {},
   "outputs": [
    {
     "data": {
      "text/plain": [
       "Dataset({\n",
       "    features: ['input_ids', 'attention_mask', 'labels'],\n",
       "    num_rows: 128\n",
       "})"
      ]
     },
     "execution_count": 10,
     "metadata": {},
     "output_type": "execute_result"
    }
   ],
   "source": [
    "train_data = train_sample.map(preprocess_data, batched=True, batch_size=32, remove_columns=[\"en_sentence\", \"ja_sentence\"])\n",
    "train_data.set_format(type=\"torch\", columns=[\"input_ids\", \"attention_mask\", \"labels\"])\n",
    "train_data"
   ]
  },
  {
   "cell_type": "code",
   "execution_count": 11,
   "metadata": {},
   "outputs": [
    {
     "data": {
      "application/vnd.jupyter.widget-view+json": {
       "model_id": "b0287c744c2847408a2a6aa23cba9844",
       "version_major": 2,
       "version_minor": 0
      },
      "text/plain": [
       "Map:   0%|          | 0/32 [00:00<?, ? examples/s]"
      ]
     },
     "metadata": {},
     "output_type": "display_data"
    },
    {
     "data": {
      "text/plain": [
       "Dataset({\n",
       "    features: ['input_ids', 'attention_mask', 'labels'],\n",
       "    num_rows: 32\n",
       "})"
      ]
     },
     "execution_count": 11,
     "metadata": {},
     "output_type": "execute_result"
    }
   ],
   "source": [
    "val_data = val_sample.map(preprocess_data, batched=True, batch_size=32, remove_columns=[\"en_sentence\", \"ja_sentence\"])\n",
    "val_data.set_format(type=\"torch\", columns=[\"input_ids\", \"attention_mask\", \"labels\"])\n",
    "val_data"
   ]
  },
  {
   "cell_type": "code",
   "execution_count": 12,
   "metadata": {},
   "outputs": [
    {
     "data": {
      "text/plain": [
       "GenerationConfig {\n",
       "  \"bos_token_id\": 50256,\n",
       "  \"early_stopping\": true,\n",
       "  \"eos_token_id\": 50256,\n",
       "  \"length_penalty\": 2.0,\n",
       "  \"max_length\": 128,\n",
       "  \"no_repeat_ngram_size\": 3,\n",
       "  \"num_beams\": 3,\n",
       "  \"pad_token_id\": 50256,\n",
       "  \"transformers_version\": \"4.31.0\"\n",
       "}"
      ]
     },
     "execution_count": 12,
     "metadata": {},
     "output_type": "execute_result"
    }
   ],
   "source": [
    "gen_config = GenerationConfig()\n",
    "\n",
    "def set_decoder_configuration(gen_config):\n",
    "    gen_config.no_repeat_ngram_size = 3\n",
    "    gen_config.length_penalty = 2.0\n",
    "    gen_config.num_beams = 3\n",
    "    # gen_config.max_new_tokens = 128\n",
    "    gen_config.min_length = 0\n",
    "    gen_config.max_length = 128\n",
    "    gen_config.early_stopping = True\n",
    "    gen_config.pad_token_id = decoder_tokenizer.eos_token_id\n",
    "    gen_config.bos_token_id = decoder_tokenizer.bos_token_id\n",
    "    gen_config.eos_token_id = decoder_tokenizer.eos_token_id\n",
    "    return gen_config\n",
    "\n",
    "\n",
    "gen_config = set_decoder_configuration(gen_config)\n",
    "gen_config"
   ]
  },
  {
   "cell_type": "code",
   "execution_count": 13,
   "metadata": {},
   "outputs": [],
   "source": [
    "from evaluate import load"
   ]
  },
  {
   "cell_type": "code",
   "execution_count": 14,
   "metadata": {},
   "outputs": [],
   "source": [
    "metric = load(\"sacrebleu\")\n",
    "\n",
    "def compute_metrics(preds):\n",
    "    preds_ids, labels_ids = preds\n",
    "\n",
    "    labels_ids[labels_ids == -100] = decoder_tokenizer.eos_token_id\n",
    "    references = decoder_tokenizer.batch_decode(labels_ids, skip_special_tokens=True)\n",
    "    references = [[reference] for reference in references]\n",
    "\n",
    "    predictions = decoder_tokenizer.batch_decode(preds_ids, skip_special_tokens=True)\n",
    "\n",
    "    if target_lng == \"ja\":\n",
    "        bleu_output = metric.compute(references=references, predictions=predictions, tokenize=\"ja-mecab\")\n",
    "    else:\n",
    "        bleu_output = metric.compute(references=references, predictions=predictions)\n",
    "    return bleu_output\n"
   ]
  },
  {
   "cell_type": "code",
   "execution_count": 15,
   "metadata": {},
   "outputs": [],
   "source": [
    "train_args = Seq2SeqTrainingArguments(\n",
    "    predict_with_generate=True,\n",
    "    output_dir=\"./\",\n",
    "    num_train_epochs=10,\n",
    "    logging_strategy=\"epoch\",\n",
    "    evaluation_strategy=\"epoch\",\n",
    "    bf16=True,\n",
    "    # torch_compile=True,\n",
    "    generation_config=gen_config,\n",
    "    per_device_train_batch_size=8,\n",
    "    per_device_eval_batch_size=8\n",
    ")"
   ]
  },
  {
   "cell_type": "code",
   "execution_count": 16,
   "metadata": {},
   "outputs": [],
   "source": [
    "trainer = Seq2SeqTrainer(model, args=train_args, train_dataset=train_data, eval_dataset=val_data, compute_metrics=compute_metrics)"
   ]
  },
  {
   "cell_type": "code",
   "execution_count": 17,
   "metadata": {},
   "outputs": [
    {
     "name": "stderr",
     "output_type": "stream",
     "text": [
      "/home/davide/mambaforge/envs/NLP/lib/python3.11/site-packages/transformers/optimization.py:411: FutureWarning: This implementation of AdamW is deprecated and will be removed in a future version. Use the PyTorch implementation torch.optim.AdamW instead, or set `no_deprecation_warning=True` to disable this warning\n",
      "  warnings.warn(\n",
      "/home/davide/mambaforge/envs/NLP/lib/python3.11/site-packages/transformers/models/encoder_decoder/modeling_encoder_decoder.py:642: FutureWarning: Version v4.12.0 introduces a better way to train encoder-decoder models by computing the loss inside the encoder-decoder framework rather than in the decoder itself. You may observe training discrepancies if fine-tuning a model trained with versions anterior to 4.12.0. The decoder_input_ids are now created based on the labels, no need to pass them yourself anymore.\n",
      "  warnings.warn(DEPRECATION_WARNING, FutureWarning)\n"
     ]
    },
    {
     "data": {
      "text/html": [
       "\n",
       "    <div>\n",
       "      \n",
       "      <progress value='160' max='160' style='width:300px; height:20px; vertical-align: middle;'></progress>\n",
       "      [160/160 00:55, Epoch 10/10]\n",
       "    </div>\n",
       "    <table border=\"1\" class=\"dataframe\">\n",
       "  <thead>\n",
       " <tr style=\"text-align: left;\">\n",
       "      <th>Epoch</th>\n",
       "      <th>Training Loss</th>\n",
       "      <th>Validation Loss</th>\n",
       "      <th>Score</th>\n",
       "      <th>Counts</th>\n",
       "      <th>Totals</th>\n",
       "      <th>Precisions</th>\n",
       "      <th>Bp</th>\n",
       "      <th>Sys Len</th>\n",
       "      <th>Ref Len</th>\n",
       "    </tr>\n",
       "  </thead>\n",
       "  <tbody>\n",
       "    <tr>\n",
       "      <td>1</td>\n",
       "      <td>3.691100</td>\n",
       "      <td>3.223726</td>\n",
       "      <td>1.105588</td>\n",
       "      <td>[48, 4, 0, 0]</td>\n",
       "      <td>[222, 190, 158, 126]</td>\n",
       "      <td>[21.62162162162162, 2.1052631578947367, 0.31645569620253167, 0.1984126984126984]</td>\n",
       "      <td>0.850303</td>\n",
       "      <td>222</td>\n",
       "      <td>258</td>\n",
       "    </tr>\n",
       "    <tr>\n",
       "      <td>2</td>\n",
       "      <td>2.307300</td>\n",
       "      <td>3.299203</td>\n",
       "      <td>0.861063</td>\n",
       "      <td>[47, 2, 0, 0]</td>\n",
       "      <td>[266, 234, 202, 170]</td>\n",
       "      <td>[17.669172932330827, 0.8547008547008547, 0.24752475247524752, 0.14705882352941177]</td>\n",
       "      <td>1.000000</td>\n",
       "      <td>266</td>\n",
       "      <td>258</td>\n",
       "    </tr>\n",
       "    <tr>\n",
       "      <td>3</td>\n",
       "      <td>1.547500</td>\n",
       "      <td>3.469179</td>\n",
       "      <td>0.935582</td>\n",
       "      <td>[46, 2, 0, 0]</td>\n",
       "      <td>[195, 163, 131, 99]</td>\n",
       "      <td>[23.58974358974359, 1.2269938650306749, 0.3816793893129771, 0.25252525252525254]</td>\n",
       "      <td>0.723918</td>\n",
       "      <td>195</td>\n",
       "      <td>258</td>\n",
       "    </tr>\n",
       "    <tr>\n",
       "      <td>4</td>\n",
       "      <td>1.083400</td>\n",
       "      <td>3.645945</td>\n",
       "      <td>0.928230</td>\n",
       "      <td>[48, 2, 0, 0]</td>\n",
       "      <td>[224, 192, 160, 128]</td>\n",
       "      <td>[21.428571428571427, 1.0416666666666667, 0.3125, 0.1953125]</td>\n",
       "      <td>0.859172</td>\n",
       "      <td>224</td>\n",
       "      <td>258</td>\n",
       "    </tr>\n",
       "    <tr>\n",
       "      <td>5</td>\n",
       "      <td>0.789300</td>\n",
       "      <td>4.052249</td>\n",
       "      <td>0.925515</td>\n",
       "      <td>[47, 2, 0, 0]</td>\n",
       "      <td>[221, 189, 157, 125]</td>\n",
       "      <td>[21.266968325791854, 1.0582010582010581, 0.3184713375796178, 0.2]</td>\n",
       "      <td>0.845844</td>\n",
       "      <td>221</td>\n",
       "      <td>258</td>\n",
       "    </tr>\n",
       "    <tr>\n",
       "      <td>6</td>\n",
       "      <td>0.577100</td>\n",
       "      <td>4.278708</td>\n",
       "      <td>1.062228</td>\n",
       "      <td>[45, 4, 0, 0]</td>\n",
       "      <td>[249, 217, 185, 153]</td>\n",
       "      <td>[18.072289156626507, 1.8433179723502304, 0.2702702702702703, 0.16339869281045752]</td>\n",
       "      <td>0.964501</td>\n",
       "      <td>249</td>\n",
       "      <td>258</td>\n",
       "    </tr>\n",
       "    <tr>\n",
       "      <td>7</td>\n",
       "      <td>0.453600</td>\n",
       "      <td>4.429223</td>\n",
       "      <td>0.927670</td>\n",
       "      <td>[49, 2, 0, 0]</td>\n",
       "      <td>[231, 199, 167, 135]</td>\n",
       "      <td>[21.21212121212121, 1.0050251256281406, 0.2994011976047904, 0.18518518518518517]</td>\n",
       "      <td>0.889689</td>\n",
       "      <td>231</td>\n",
       "      <td>258</td>\n",
       "    </tr>\n",
       "    <tr>\n",
       "      <td>8</td>\n",
       "      <td>0.401500</td>\n",
       "      <td>4.621641</td>\n",
       "      <td>0.819274</td>\n",
       "      <td>[48, 2, 0, 0]</td>\n",
       "      <td>[278, 246, 214, 182]</td>\n",
       "      <td>[17.26618705035971, 0.8130081300813008, 0.2336448598130841, 0.13736263736263737]</td>\n",
       "      <td>1.000000</td>\n",
       "      <td>278</td>\n",
       "      <td>258</td>\n",
       "    </tr>\n",
       "    <tr>\n",
       "      <td>9</td>\n",
       "      <td>0.446100</td>\n",
       "      <td>4.623802</td>\n",
       "      <td>0.870615</td>\n",
       "      <td>[51, 2, 0, 0]</td>\n",
       "      <td>[268, 236, 204, 172]</td>\n",
       "      <td>[19.029850746268657, 0.847457627118644, 0.24509803921568626, 0.14534883720930233]</td>\n",
       "      <td>1.000000</td>\n",
       "      <td>268</td>\n",
       "      <td>258</td>\n",
       "    </tr>\n",
       "    <tr>\n",
       "      <td>10</td>\n",
       "      <td>0.332700</td>\n",
       "      <td>4.641215</td>\n",
       "      <td>0.850430</td>\n",
       "      <td>[50, 2, 0, 0]</td>\n",
       "      <td>[272, 240, 208, 176]</td>\n",
       "      <td>[18.38235294117647, 0.8333333333333334, 0.2403846153846154, 0.14204545454545456]</td>\n",
       "      <td>1.000000</td>\n",
       "      <td>272</td>\n",
       "      <td>258</td>\n",
       "    </tr>\n",
       "  </tbody>\n",
       "</table><p>"
      ],
      "text/plain": [
       "<IPython.core.display.HTML object>"
      ]
     },
     "metadata": {},
     "output_type": "display_data"
    },
    {
     "data": {
      "text/plain": [
       "TrainOutput(global_step=160, training_loss=1.1629755705595017, metrics={'train_runtime': 56.2751, 'train_samples_per_second': 22.745, 'train_steps_per_second': 2.843, 'total_flos': 195112646737920.0, 'train_loss': 1.1629755705595017, 'epoch': 10.0})"
      ]
     },
     "execution_count": 17,
     "metadata": {},
     "output_type": "execute_result"
    }
   ],
   "source": [
    "model.train()\n",
    "trainer.train()"
   ]
  },
  {
   "cell_type": "code",
   "execution_count": 18,
   "metadata": {},
   "outputs": [
    {
     "name": "stderr",
     "output_type": "stream",
     "text": [
      "/home/davide/mambaforge/envs/NLP/lib/python3.11/site-packages/transformers/generation/utils.py:1369: UserWarning: Using `max_length`'s default (128) to control the generation length. This behaviour is deprecated and will be removed from the config in v5 of Transformers -- we recommend using `max_new_tokens` to control the maximum length of the generation.\n",
      "  warnings.warn(\n"
     ]
    }
   ],
   "source": [
    "model.cuda()\n",
    "model.eval()\n",
    "output = model.generate(\n",
    "    val_data[\"input_ids\"].cuda(),\n",
    "    attention_mask=val_data[\"attention_mask\"].cuda(),\n",
    "    generation_config=gen_config\n",
    ")"
   ]
  },
  {
   "cell_type": "code",
   "execution_count": 19,
   "metadata": {},
   "outputs": [
    {
     "data": {
      "text/plain": [
       "{'score': 0.7700901195336971,\n",
       " 'counts': [59, 2, 0, 0],\n",
       " 'totals': [305, 273, 241, 209],\n",
       " 'precisions': [19.34426229508197,\n",
       "  0.7326007326007326,\n",
       "  0.2074688796680498,\n",
       "  0.11961722488038277],\n",
       " 'bp': 1.0,\n",
       " 'sys_len': 305,\n",
       " 'ref_len': 258}"
      ]
     },
     "execution_count": 19,
     "metadata": {},
     "output_type": "execute_result"
    }
   ],
   "source": [
    "compute_metrics((output, val_data[\"labels\"]))"
   ]
  },
  {
   "cell_type": "code",
   "execution_count": 20,
   "metadata": {},
   "outputs": [],
   "source": [
    "clean_output = decoder_tokenizer.batch_decode(output, skip_special_tokens=True)"
   ]
  },
  {
   "cell_type": "code",
   "execution_count": 21,
   "metadata": {},
   "outputs": [
    {
     "data": {
      "text/plain": [
       "['the number of boys in our class is thirty.',\n",
       " 'the number of boys in our class is thirty.',\n",
       " 'the number of boys in our class is thirty.',\n",
       " 'the number of boys in our class is thirty.',\n",
       " 'the number of boys in our class is thirty.',\n",
       " 'the number of boys in our class is thirty.',\n",
       " 'the number of boys in our class is thirty.',\n",
       " 'the number of boys in our class is thirty.',\n",
       " 'he always speaks ill of his father behind his back.',\n",
       " 'he always speaks ill of his father behind his back.',\n",
       " 'the number of boys in our class is thirty.',\n",
       " 'the number of boys in our class is thirty.',\n",
       " 'i have nothing to live for.',\n",
       " 'i have nothing to live for.',\n",
       " 'the number of boys in our class is thirty.',\n",
       " 'the number of boys in our class is thirty.',\n",
       " \"you have eaten lunch, haven 't you?\",\n",
       " \"you have eaten lunch, haven 't you?\",\n",
       " 'i have nothing to live for.',\n",
       " 'i have half a mind to undertake the work.',\n",
       " 'i have half a mind to undertake the work.',\n",
       " 'i have half a mind to undertake the work.',\n",
       " \"it's a cloudy day.\",\n",
       " \"it's a cloudy day.\",\n",
       " 'the number of boys in our class is thirty.',\n",
       " 'the number of boys in our class is thirty.',\n",
       " 'i have half a mind to undertake the work.',\n",
       " 'the number of boys in our class is thirty.',\n",
       " \"i'm going to give you a year's worth of allowance all at once.\",\n",
       " 'i have half a mind to undertake the work.',\n",
       " 'the number of boys in our class is thirty.',\n",
       " 'the number of boys in our class is thirty.']"
      ]
     },
     "execution_count": 21,
     "metadata": {},
     "output_type": "execute_result"
    }
   ],
   "source": [
    "clean_output"
   ]
  },
  {
   "cell_type": "code",
   "execution_count": 24,
   "metadata": {},
   "outputs": [
    {
     "data": {
      "text/plain": [
       "['what are you talking about ?',\n",
       " 'what are you talking about ?',\n",
       " 'he is doing it with my help .',\n",
       " 'he is doing it with my help .',\n",
       " 'he is married to an american lady .',\n",
       " 'he is married to an american lady .',\n",
       " 'the cat ran up the tree .',\n",
       " 'the cat ran up the tree .',\n",
       " 'he pretends to know everything .',\n",
       " 'he pretends to know everything .',\n",
       " 'john is walking in the direction of the station .',\n",
       " 'john is walking in the direction of the station .',\n",
       " \"there 's no need to get so angry .\",\n",
       " \"there 's no need to get so angry .\",\n",
       " 'let me call you back later , ok ?',\n",
       " 'let me call you back later , ok ?',\n",
       " 'please help yourself to more cake .',\n",
       " 'please help yourself to more cake .',\n",
       " 'i have two foreign friends .',\n",
       " 'i have two foreign friends .',\n",
       " 'you have to make efforts if you are to succeed .',\n",
       " 'you have to make efforts if you are to succeed .',\n",
       " 'choose between these two .',\n",
       " 'choose between these two .',\n",
       " 'the house is quite run down .',\n",
       " 'the house is quite run down .',\n",
       " 'i was born in osaka , but brought up in tokyo .',\n",
       " 'i was born in osaka , but brought up in tokyo .',\n",
       " 'please get this work finished by monday .',\n",
       " 'please get this work finished by monday .',\n",
       " \"they still haven 't found a buyer for that house .\",\n",
       " \"they still haven 't found a buyer for that house .\"]"
      ]
     },
     "execution_count": 24,
     "metadata": {},
     "output_type": "execute_result"
    }
   ],
   "source": [
    "val_sample[f\"{target_lng}_sentence\"]"
   ]
  },
  {
   "cell_type": "code",
   "execution_count": null,
   "metadata": {},
   "outputs": [],
   "source": []
  }
 ],
 "metadata": {
  "kernelspec": {
   "display_name": "NLP",
   "language": "python",
   "name": "python3"
  },
  "language_info": {
   "codemirror_mode": {
    "name": "ipython",
    "version": 3
   },
   "file_extension": ".py",
   "mimetype": "text/x-python",
   "name": "python",
   "nbconvert_exporter": "python",
   "pygments_lexer": "ipython3",
   "version": "3.11.4"
  },
  "orig_nbformat": 4
 },
 "nbformat": 4,
 "nbformat_minor": 2
}
